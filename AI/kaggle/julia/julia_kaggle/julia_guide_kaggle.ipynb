{
 "cells": [
  {
   "cell_type": "code",
   "execution_count": 2,
   "metadata": {},
   "outputs": [],
   "source": [
    "# Kaggle tutorial\n",
    "# https://www.kaggle.com/c/street-view-getting-started-with-julia/overview/julia-tutorial\n",
    "# https://www.kaggle.com/c/street-view-getting-started-with-julia/discussion/96926#latest-559805"
   ]
  },
  {
   "cell_type": "code",
   "execution_count": 80,
   "metadata": {},
   "outputs": [
    {
     "name": "stdout",
     "output_type": "stream",
     "text": [
      "\"Libraries loaded\"\n"
     ]
    }
   ],
   "source": [
    "# Load packages\n",
    "using Images\n",
    "using DataFrames\n",
    "using CSV\n",
    "using DecisionTree\n",
    "using Statistics\n",
    "\n",
    "# Helping function\n",
    "showln(x) = (show(x); println())\n",
    "\n",
    "showln(\"Libraries loaded\")"
   ]
  },
  {
   "cell_type": "code",
   "execution_count": 34,
   "metadata": {},
   "outputs": [
    {
     "name": "stdout",
     "output_type": "stream",
     "text": [
      "\"Created read_image function\"\n"
     ]
    }
   ],
   "source": [
    "\"\"\"\n",
    "dataset_type:\n",
    "    \"train\" or \"test\"\n",
    "labels_info:\n",
    "    IDs of each image to read\n",
    "image_size:\n",
    "    amount of pixels in image\n",
    "dataset_dir_path:\n",
    "    path to directory with \"trainResized\" and \"testResized\" directories.\n",
    "\"\"\"\n",
    "function read_image(dataset_type, labels_info, image_size, dataset_dir_path)\n",
    "    # Initialize X matrix\n",
    "    X = zeros(size(labels_info, 1), image_size)\n",
    "    showln(size(labels_info))\n",
    "    for (idx, image_id) in enumerate(labels_info[:ID])\n",
    "        # Load image\n",
    "        image_full_path = \"$(dataset_dir_path)/$(dataset_type)Resized/$(image_id).Bmp\"\n",
    "        image = load(image_full_path)\n",
    "        image_greyscale = Gray.(image)\n",
    "        # Transform image matrix to a vector and store it in data matrix\n",
    "        X[idx, :] = reshape(image_greyscale, 1, image_size)\n",
    "    end\n",
    "    return X\n",
    "end\n",
    "\n",
    "showln(\"Created read_image function\")"
   ]
  },
  {
   "cell_type": "code",
   "execution_count": 46,
   "metadata": {},
   "outputs": [
    {
     "data": {
      "text/plain": [
       "\"/home/max/Documents/ai/julia/julia_kaggle/data\""
      ]
     },
     "execution_count": 46,
     "metadata": {},
     "output_type": "execute_result"
    }
   ],
   "source": [
    "# The images in the trainResized and testResized directories are 20x20 pixels,\n",
    "#     so image_size should be set to 400.\n",
    "image_size = 20 * 20\n",
    "dataset_dir_path = \"/home/max/Documents/ai/julia/julia_kaggle/data\""
   ]
  },
  {
   "cell_type": "code",
   "execution_count": 47,
   "metadata": {
    "scrolled": true
   },
   "outputs": [
    {
     "name": "stdout",
     "output_type": "stream",
     "text": [
      "(6283, 2)\n",
      "Symbol[:ID, :Class]\n",
      "(6220, 2)\n",
      "Symbol[:ID, :Class]\n",
      "3×2 DataFrame\n",
      "│ Row │ ID    │ Class  │\n",
      "│     │ \u001b[90mInt64\u001b[39m │ \u001b[90mString\u001b[39m │\n",
      "├─────┼───────┼────────┤\n",
      "│ 1   │ 1     │ n      │\n",
      "│ 2   │ 2     │ 8      │\n",
      "│ 3   │ 3     │ T      │\n",
      "3×2 DataFrame\n",
      "│ Row │ ID    │ Class  │\n",
      "│     │ \u001b[90mInt64\u001b[39m │ \u001b[90mString\u001b[39m │\n",
      "├─────┼───────┼────────┤\n",
      "│ 1   │ 6284  │ A      │\n",
      "│ 2   │ 6285  │ A      │\n",
      "│ 3   │ 6286  │ A      │\n"
     ]
    }
   ],
   "source": [
    "# Load labels (ID and Class) for train and test \n",
    "train_labels_info = CSV.read(\"$(dataset_dir_path)/trainLabels.csv\")\n",
    "showln(size(train_labels_info))\n",
    "showln(names(train_labels_info))\n",
    "\n",
    "test_labels_info = CSV.read(\"$(dataset_dir_path)/sampleSubmission.csv\")\n",
    "showln(size(test_labels_info))\n",
    "showln(names(test_labels_info))\n",
    "\n",
    "# Display some info about these labels\n",
    "showln(first(train_labels_info, 3))\n",
    "showln(first(test_labels_info, 3))"
   ]
  },
  {
   "cell_type": "code",
   "execution_count": 44,
   "metadata": {},
   "outputs": [
    {
     "name": "stdout",
     "output_type": "stream",
     "text": [
      "(6283, 2)\n",
      "  3.144973 seconds (1.70 M allocations: 135.245 MiB, 0.95% gc time)\n",
      "(6220, 2)\n",
      " "
     ]
    },
    {
     "data": {
      "text/plain": [
       "(6283, 400)"
      ]
     },
     "metadata": {},
     "output_type": "display_data"
    },
    {
     "data": {
      "text/plain": [
       "(6220, 400)"
      ]
     },
     "metadata": {},
     "output_type": "display_data"
    },
    {
     "name": "stdout",
     "output_type": "stream",
     "text": [
      " 3.136396 seconds (1.68 M allocations: 133.856 MiB, 3.43% gc time)\n"
     ]
    }
   ],
   "source": [
    "# Read training and testing sets\n",
    "@time X_train = read_image(\"train\", train_labels_info, image_size, dataset_dir_path)\n",
    "@time X_test = read_image(\"test\", test_labels_info, image_size, dataset_dir_path)\n",
    "\n",
    "display(size(X_train))\n",
    "display(size(X_test))"
   ]
  },
  {
   "cell_type": "code",
   "execution_count": 57,
   "metadata": {},
   "outputs": [
    {
     "name": "stdout",
     "output_type": "stream",
     "text": [
      "(6283,)\n",
      "Array{Int64,1}\n",
      "[110, 56, 84, 73, 82, 87, 76, 108, 75, 71]\n"
     ]
    }
   ],
   "source": [
    "# Create Y vector from each image.\n",
    "# Target variable == first character of 'Class' column\n",
    "\n",
    "y_train = map(col_value -> col_value[1], train_labels_info[:Class])\n",
    "y_train = convert(Array{Int64, 1}, y_train)\n",
    "\n",
    "showln(size(y_train))\n",
    "showln(typeof(y_train))\n",
    "showln(y_train[1:10])"
   ]
  },
  {
   "cell_type": "code",
   "execution_count": 71,
   "metadata": {},
   "outputs": [
    {
     "data": {
      "text/plain": [
       "Ensemble of Decision Trees\n",
       "Trees:      50\n",
       "Avg Leaves: 2204.12\n",
       "Avg Depth:  18.72"
      ]
     },
     "execution_count": 71,
     "metadata": {},
     "output_type": "execute_result"
    }
   ],
   "source": [
    "# Create a training model\n",
    "\n",
    "# Learn patterns in the images that identify the character in the label.\n",
    "# Use Julia version of Random Forest algorithm.\n",
    "# Parameters to set:\n",
    "#     number of features to choose at each split\n",
    "#         sqrt(number_of_features)\n",
    "#     number of trees\n",
    "#         larger is better, but it takes more time to train\n",
    "#     ratio of sampling\n",
    "#         usually 1.0\n",
    "\n",
    "num_of_features = sqrt(size(X_train, 2))\n",
    "num_of_trees = 50\n",
    "ratio_of_sampling = 1.0\n",
    "model = build_forest(\n",
    "    y_train, X_train,  # labels, features\n",
    "    num_of_features,\n",
    "    num_of_trees,\n",
    "    ratio_of_sampling\n",
    ")\n",
    "\n",
    "# build_forest(labels::Array{T,1}, features::Array{S,2}, n_subfeatures, n_trees, partial_sampling)"
   ]
  },
  {
   "cell_type": "code",
   "execution_count": 73,
   "metadata": {},
   "outputs": [
    {
     "data": {
      "text/plain": [
       "6220-element Array{Int64,1}:\n",
       "  72\n",
       "  69\n",
       "  97\n",
       "  79\n",
       "  84\n",
       "  65\n",
       "  48\n",
       "  97\n",
       "  66\n",
       "  72\n",
       "  78\n",
       " 100\n",
       "  75\n",
       "   ⋮\n",
       "  82\n",
       "  65\n",
       "  65\n",
       "  67\n",
       "  69\n",
       "  84\n",
       "  75\n",
       "  79\n",
       "  82\n",
       "  82\n",
       "  73\n",
       "  79"
      ]
     },
     "execution_count": 73,
     "metadata": {},
     "output_type": "execute_result"
    }
   ],
   "source": [
    "# Use trained model: identify the characters in the test data\n",
    "test_set_predictions = apply_forest(model, X_test)"
   ]
  },
  {
   "cell_type": "code",
   "execution_count": 74,
   "metadata": {},
   "outputs": [
    {
     "data": {
      "text/plain": [
       "6220-element Array{Char,1}:\n",
       " 'H'\n",
       " 'E'\n",
       " 'a'\n",
       " 'O'\n",
       " 'T'\n",
       " 'A'\n",
       " '0'\n",
       " 'a'\n",
       " 'B'\n",
       " 'H'\n",
       " 'N'\n",
       " 'd'\n",
       " 'K'\n",
       " ⋮  \n",
       " 'R'\n",
       " 'A'\n",
       " 'A'\n",
       " 'C'\n",
       " 'E'\n",
       " 'T'\n",
       " 'K'\n",
       " 'O'\n",
       " 'R'\n",
       " 'R'\n",
       " 'I'\n",
       " 'O'"
      ]
     },
     "execution_count": 74,
     "metadata": {},
     "output_type": "execute_result"
    }
   ],
   "source": [
    "# Convert predictions back to characters\n",
    "test_labels_info[:Class] = convert(Array{Char, 1}, test_set_predictions)"
   ]
  },
  {
   "cell_type": "code",
   "execution_count": 86,
   "metadata": {},
   "outputs": [
    {
     "data": {
      "text/plain": [
       "62×62 Array{Int64,2}:\n",
       " 24   0   0   0   0   0   0  0  0   0  …  0   0   0   0   0  0  0  0   0  0\n",
       "  0  14   0   0   0   0   0  0  0   0     0   0   0   0   0  0  0  0   0  0\n",
       "  0   0  10   0   0   0   0  0  0   0     0   0   0   0   0  0  0  0   0  0\n",
       "  0   0   0  12   0   0   0  0  0   0     0   0   0   0   0  0  0  0   0  0\n",
       "  0   0   0   0  10   0   0  0  0   0     0   0   0   0   0  0  0  0   0  0\n",
       "  0   0   0   0   0  11   0  0  0   0  …  0   0   0   0   0  0  0  0   0  0\n",
       "  0   0   0   0   0   0  16  0  0   0     0   0   0   0   0  0  0  0   0  0\n",
       "  0   0   0   0   0   0   0  6  0   0     0   0   0   0   0  0  0  0   0  0\n",
       "  0   0   0   0   0   0   0  0  3   0     0   0   0   0   0  0  0  0   0  0\n",
       "  0   0   0   0   0   0   0  0  0  12     0   0   0   0   0  0  0  0   0  0\n",
       "  0   0   0   0   0   0   0  0  0   0  …  0   0   0   0   0  0  0  0   0  0\n",
       "  0   0   0   0   0   0   0  0  0   0     0   0   0   0   0  0  0  0   0  0\n",
       "  0   0   0   0   0   0   0  0  0   0     0   0   0   0   0  0  0  0   0  0\n",
       "  ⋮                   ⋮                ⋱              ⋮                ⋮   \n",
       "  0   0   0   0   0   0   0  0  0   0  …  0   0   0   0   0  0  0  0   0  0\n",
       "  0   0   0   0   0   0   0  0  0   0     0   0   0   0   0  0  0  0   0  0\n",
       "  0   0   0   0   0   0   0  0  0   0     7   0   0   0   0  0  0  0   0  0\n",
       "  0   0   0   0   0   0   0  0  0   0     0  28   0   0   0  0  0  0   0  0\n",
       "  0   0   0   0   0   0   0  0  0   0     0   0  22   0   0  0  0  0   0  0\n",
       "  0   0   0   0   0   0   0  0  0   0  …  0   0   0  24   0  0  0  0   0  0\n",
       "  0   0   0   0   0   0   0  0  0   0     0   0   0   0  14  0  0  0   0  0\n",
       "  0   0   0   0   0   0   0  0  0   0     0   0   0   0   0  3  0  0   0  0\n",
       "  0   0   0   0   0   0   0  0  0   0     0   0   0   0   0  0  6  0   0  0\n",
       "  0   0   0   0   0   0   0  0  0   0     0   0   0   0   0  0  0  3   0  0\n",
       "  0   0   0   0   0   0   0  0  0   0  …  0   0   0   0   0  0  0  0  11  0\n",
       "  0   0   0   0   0   0   0  0  0   0     0   0   0   0   0  0  0  0   0  2"
      ]
     },
     "metadata": {},
     "output_type": "display_data"
    },
    {
     "name": "stdout",
     "output_type": "stream",
     "text": [
      "\n",
      "Fold 1\n",
      "Classes:  [48, 49, 50, 51, 52, 53, 54, 55, 56, 57, 65, 66, 67, 68, 69, 70, 71, 72, 73, 74, 75, 76, 77, 78, 79, 80, 81, 82, 83, 84, 85, 86, 87, 88, 89, 90, 97, 98, 99, 100, 101, 102, 103, 104, 105, 106, 107, 108, 109, 110, 111, 112, 113, 114, 115, 116, 117, 118, 119, 120, 121, 122]\n",
      "Matrix:   \n",
      "Accuracy: 1.0\n",
      "Kappa:    1.0\n"
     ]
    },
    {
     "data": {
      "text/plain": [
       "62×62 Array{Int64,2}:\n",
       " 16   0   0  0   0   0  0  0  0  0    0  …  0   0   0   0  0  0   0  0  0  0\n",
       "  0  18   0  0   0   0  0  0  0  0    0     0   0   0   0  0  0   0  0  0  0\n",
       "  0   0  16  0   0   0  0  0  0  0    0     0   0   0   0  0  0   0  0  0  0\n",
       "  0   0   0  7   0   0  0  0  0  0    0     0   0   0   0  0  0   0  0  0  0\n",
       "  0   0   0  0  10   0  0  0  0  0    0     0   0   0   0  0  0   0  0  0  0\n",
       "  0   0   0  0   0  10  0  0  0  0    0  …  0   0   0   0  0  0   0  0  0  0\n",
       "  0   0   0  0   0   0  7  0  0  0    0     0   0   0   0  0  0   0  0  0  0\n",
       "  0   0   0  0   0   0  0  5  0  0    0     0   0   0   0  0  0   0  0  0  0\n",
       "  0   0   0  0   0   0  0  0  4  0    0     0   0   0   0  0  0   0  0  0  0\n",
       "  0   0   0  0   0   0  0  0  0  4    0     0   0   0   0  0  0   0  0  0  0\n",
       "  0   0   0  0   0   0  0  0  0  0  108  …  0   0   0   0  0  0   0  0  0  0\n",
       "  0   0   0  0   0   0  0  0  0  0    0     0   0   0   0  0  0   0  0  0  0\n",
       "  0   0   0  0   0   0  0  0  0  0    0     0   0   0   0  0  0   0  0  0  0\n",
       "  ⋮                  ⋮                ⋮  ⋱              ⋮               ⋮   \n",
       "  0   0   0  0   0   0  0  0  0  0    0  …  0   0   0   0  0  0   0  0  0  0\n",
       "  0   0   0  0   0   0  0  0  0  0    0     0   0   0   0  0  0   0  0  0  0\n",
       "  0   0   0  0   0   0  0  0  0  0    0     7   0   0   0  0  0   0  0  0  0\n",
       "  0   0   0  0   0   0  0  0  0  0    0     0  20   0   0  0  0   0  0  0  0\n",
       "  0   0   0  0   0   0  0  0  0  0    0     0   0  27   0  0  0   0  0  0  0\n",
       "  0   0   0  0   0   0  0  0  0  0    0  …  0   0   0  27  0  0   0  0  0  0\n",
       "  0   0   0  0   0   0  0  0  0  0    0     0   0   0   0  8  0   0  0  0  0\n",
       "  0   0   0  0   0   0  0  0  0  0    0     0   0   0   0  0  7   0  0  0  0\n",
       "  0   0   0  0   0   0  0  0  0  0    0     0   0   0   0  0  0  11  0  0  0\n",
       "  0   0   0  0   0   0  0  0  0  0    0     0   0   0   0  0  0   0  8  0  0\n",
       "  0   0   0  0   0   0  0  0  0  0    0  …  0   0   0   0  0  0   0  0  7  0\n",
       "  0   0   0  0   0   0  0  0  0  0    0     0   0   0   0  0  0   0  0  0  5"
      ]
     },
     "metadata": {},
     "output_type": "display_data"
    },
    {
     "name": "stdout",
     "output_type": "stream",
     "text": [
      "\n",
      "Fold 2\n",
      "Classes:  [48, 49, 50, 51, 52, 53, 54, 55, 56, 57, 65, 66, 67, 68, 69, 70, 71, 72, 73, 74, 75, 76, 77, 78, 79, 80, 81, 82, 83, 84, 85, 86, 87, 88, 89, 90, 97, 98, 99, 100, 101, 102, 103, 104, 105, 106, 107, 108, 109, 110, 111, 112, 113, 114, 115, 116, 117, 118, 119, 120, 121, 122]\n",
      "Matrix:   \n",
      "Accuracy: 0.9993630573248408\n",
      "Kappa:    0.9993427288224714\n"
     ]
    },
    {
     "data": {
      "text/plain": [
       "62×62 Array{Int64,2}:\n",
       " 21   0   0  0   0  0  0   0  0  0  …  0  0   0   0   0  0  0  0  0   0  0\n",
       "  0  18   0  0   0  0  0   0  0  0     0  0   0   0   0  0  0  0  0   0  0\n",
       "  0   0  16  0   0  0  0   0  0  0     0  0   0   0   0  0  0  0  0   0  0\n",
       "  0   0   0  7   0  0  0   0  0  0     0  0   0   0   0  0  0  0  0   0  0\n",
       "  0   0   0  0  10  0  0   0  0  0     0  0   0   0   0  0  0  0  0   0  0\n",
       "  0   0   0  0   0  8  0   0  0  0  …  0  0   0   0   0  0  0  0  0   0  0\n",
       "  0   0   0  0   0  0  3   0  0  0     0  0   0   0   0  0  0  0  0   0  0\n",
       "  0   0   0  0   0  0  0  13  0  0     0  0   0   0   0  0  0  0  0   0  0\n",
       "  0   0   0  0   0  0  0   0  9  0     0  0   0   0   0  0  0  0  0   0  0\n",
       "  0   0   0  0   0  0  0   0  0  6     0  0   0   0   0  0  0  0  0   0  0\n",
       "  0   0   0  0   0  0  0   0  0  0  …  0  0   0   0   0  0  0  0  0   0  0\n",
       "  0   0   0  0   0  0  0   0  0  0     0  0   0   0   0  0  0  0  0   0  0\n",
       "  0   0   0  0   0  0  0   0  0  0     0  0   0   0   0  0  0  0  0   0  0\n",
       "  ⋮                 ⋮               ⋱                 ⋮               ⋮   \n",
       "  0   0   0  0   0  0  0   0  0  0  …  0  0   0   0   0  0  0  0  0   0  0\n",
       "  0   0   0  0   0  0  0   0  0  0     4  0   0   0   0  0  0  0  0   0  0\n",
       "  0   0   0  0   0  0  0   0  0  0     0  1   0   0   0  0  0  0  0   0  0\n",
       "  0   0   0  0   0  0  0   0  0  0     0  0  36   0   0  0  0  0  0   0  0\n",
       "  0   0   0  0   0  0  0   0  0  0     0  0   0  26   0  0  0  0  0   0  0\n",
       "  0   0   0  0   0  0  0   0  0  0  …  0  0   0   0  32  0  0  0  0   0  0\n",
       "  0   0   0  0   0  0  0   0  0  0     0  0   0   0   0  9  0  0  0   0  0\n",
       "  0   0   0  0   0  0  0   0  0  0     0  0   0   0   0  0  6  0  0   0  0\n",
       "  0   0   0  0   0  0  0   0  0  0     0  0   0   0   0  0  0  3  0   0  0\n",
       "  0   0   0  0   0  0  0   0  0  0     0  0   0   0   0  0  0  0  7   0  0\n",
       "  0   0   0  0   0  0  0   0  0  0  …  0  0   0   0   0  0  0  0  0  12  0\n",
       "  0   0   0  0   0  0  0   0  0  0     0  0   0   0   0  0  0  0  0   0  7"
      ]
     },
     "metadata": {},
     "output_type": "display_data"
    },
    {
     "name": "stdout",
     "output_type": "stream",
     "text": [
      "\n",
      "Fold 3\n",
      "Classes:  [48, 49, 50, 51, 52, 53, 54, 55, 56, 57, 65, 66, 67, 68, 69, 70, 71, 72, 73, 74, 75, 76, 77, 78, 79, 80, 81, 82, 83, 84, 85, 86, 87, 88, 89, 90, 97, 98, 99, 100, 101, 102, 103, 104, 105, 106, 107, 108, 109, 110, 111, 112, 113, 114, 115, 116, 117, 118, 119, 120, 121, 122]\n",
      "Matrix:   \n",
      "Accuracy: 1.0\n",
      "Kappa:    1.0\n"
     ]
    },
    {
     "data": {
      "text/plain": [
       "62×62 Array{Int64,2}:\n",
       " 17   0   0   0  0   0   0  0  0   0  …   0   0   0   0  0  0  0  0  0  0\n",
       "  0  14   0   0  0   0   0  0  0   0      0   0   0   0  0  0  0  0  0  0\n",
       "  0   0  17   0  0   0   0  0  0   0      0   0   0   0  0  0  0  0  0  0\n",
       "  0   0   0  10  0   0   0  0  0   0      0   0   0   0  0  0  0  0  0  0\n",
       "  0   0   0   0  7   0   0  0  0   0      0   0   0   0  0  0  0  0  0  0\n",
       "  0   0   0   0  0  12   0  0  0   0  …   0   0   0   0  0  0  0  0  0  0\n",
       "  0   0   0   0  0   0  16  0  0   0      0   0   0   0  0  0  0  0  0  0\n",
       "  0   0   0   0  0   0   0  7  0   0      0   0   0   0  0  0  0  0  0  0\n",
       "  0   0   0   0  0   0   0  0  5   0      0   0   0   0  0  0  0  0  0  0\n",
       "  0   0   0   0  0   0   0  0  0  14      0   0   0   0  0  0  0  0  0  0\n",
       "  0   0   0   0  0   0   0  0  0   0  …   0   0   0   0  0  0  0  0  0  0\n",
       "  0   0   0   0  0   0   0  0  0   0      0   0   0   0  0  0  0  0  0  0\n",
       "  0   0   0   0  0   0   0  0  0   0      0   0   0   0  0  0  0  0  0  0\n",
       "  ⋮                  ⋮                ⋱               ⋮              ⋮   \n",
       "  0   0   0   0  0   0   0  0  0   0  …   0   0   0   0  0  0  0  0  0  0\n",
       "  0   0   0   0  0   0   0  0  0   0      0   0   0   0  0  0  0  0  0  0\n",
       "  0   0   0   0  0   0   0  0  0   0     13   0   0   0  0  0  0  0  0  0\n",
       "  0   0   0   0  0   0   0  0  0   0      0  38   0   0  0  0  0  0  0  0\n",
       "  0   0   0   0  0   0   0  0  0   0      0   0  20   0  0  0  0  0  0  0\n",
       "  0   0   0   0  0   0   0  0  0   0  …   0   0   0  24  0  0  0  0  0  0\n",
       "  0   0   0   0  0   0   0  0  0   0      0   0   0   0  8  0  0  0  0  0\n",
       "  0   0   0   0  0   0   0  0  0   0      0   0   0   0  0  7  0  0  0  0\n",
       "  0   0   0   0  0   0   0  0  0   0      0   0   0   0  0  0  4  0  0  0\n",
       "  0   0   0   0  0   0   0  0  0   0      0   0   0   0  0  0  0  5  0  0\n",
       "  0   0   0   0  0   0   0  0  0   0  …   0   0   0   0  0  0  0  0  7  0\n",
       "  0   0   0   0  0   0   0  0  0   0      0   0   0   0  0  0  0  0  0  6"
      ]
     },
     "metadata": {},
     "output_type": "display_data"
    },
    {
     "name": "stdout",
     "output_type": "stream",
     "text": [
      "\n",
      "Fold 4\n",
      "Classes:  [48, 49, 50, 51, 52, 53, 54, 55, 56, 57, 65, 66, 67, 68, 69, 70, 71, 72, 73, 74, 75, 76, 77, 78, 79, 80, 81, 82, 83, 84, 85, 86, 87, 88, 89, 90, 97, 98, 99, 100, 101, 102, 103, 104, 105, 106, 107, 108, 109, 110, 111, 112, 113, 114, 115, 116, 117, 118, 119, 120, 121, 122]\n",
      "Matrix:   \n",
      "Accuracy: 1.0\n",
      "Kappa:    1.0\n",
      "\n",
      "Mean Accuracy: 0.9998407643312102\n",
      "\"10 fold accuracy: 0.9998407643312102\"\n"
     ]
    }
   ],
   "source": [
    "# Print model accuracy\n",
    "n_folds = 4\n",
    "\n",
    "accuracy = nfoldCV_forest(\n",
    "    y_train, X_train,  # labels, features\n",
    "    n_folds,\n",
    "    convert(Int, num_of_features),\n",
    "    num_of_trees,\n",
    "    ratio_of_sampling,\n",
    ")\n",
    "\n",
    "# nfoldCV_forest(\n",
    "#     labels::Array{T,1}, features::Array{S,2},\n",
    "#     n_folds::Integer, n_subfeatures::Integer, n_trees::Integer, partial_sampling::Float64,\n",
    "# )\n",
    "\n",
    "mean_accuracy = mean(accuracy)\n",
    "showln(\"10 fold accuracy: $(mean_accuracy)\")"
   ]
  },
  {
   "cell_type": "code",
   "execution_count": 85,
   "metadata": {},
   "outputs": [
    {
     "data": {
      "text/plain": [
       "\"/home/max/Documents/ai/julia/julia_kaggle/data/julia_submission.csv\""
      ]
     },
     "execution_count": 85,
     "metadata": {},
     "output_type": "execute_result"
    }
   ],
   "source": [
    "# Save predictions\n",
    "CSV.write(\n",
    "    \"$(dataset_dir_path)/julia_submission.csv\",\n",
    "    test_labels_info,\n",
    "    writeheader=true\n",
    ")"
   ]
  }
 ],
 "metadata": {
  "kernelspec": {
   "display_name": "Julia 1.1.1",
   "language": "julia",
   "name": "julia-1.1"
  },
  "language_info": {
   "file_extension": ".jl",
   "mimetype": "application/julia",
   "name": "julia",
   "version": "1.1.1"
  }
 },
 "nbformat": 4,
 "nbformat_minor": 2
}
