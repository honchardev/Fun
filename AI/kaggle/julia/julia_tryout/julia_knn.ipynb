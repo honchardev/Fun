{
 "cells": [
  {
   "cell_type": "code",
   "execution_count": 1,
   "metadata": {},
   "outputs": [],
   "source": [
    "# guide src: https://www.kaggle.com/c/street-view-getting-started-with-julia/overview/knn-tutorial\n",
    "\n",
    "# Main idea: implement k-Nearest Neighbor algorithm with Leave-One-Out-Fold\n",
    "    # cross validation.\n",
    "\n",
    "# Leave-One-Out-Fold-Cross-Validation (LOOF-CV) is similar to k-fold CV,\n",
    "    # but k is set to be equal to the number of training points.\n",
    "    # The model is tested on each individual data point after being\n",
    "    # trained with the remaining points in the data.\n",
    "    # Because LOOF-CV uses all but one of the data points for training,\n",
    "    # it is not biased to any particular point or split, and could arguably give\n",
    "    # a better estimation for the performance of the model.\n",
    "    "
   ]
  },
  {
   "cell_type": "code",
   "execution_count": 2,
   "metadata": {},
   "outputs": [
    {
     "name": "stdout",
     "output_type": "stream",
     "text": [
      "\"Using 7 processes\""
     ]
    }
   ],
   "source": [
    "# Parallelization use\n",
    "using Distributed\n",
    "\n",
    "processes_cnt = 7\n",
    "addprocs(processes_cnt)  # 8 cores\n",
    "\n",
    "show(\"Using $(processes_cnt) processes\")\n",
    "\n",
    "# Macro @everywhere - make function arguments, the definition of the functions\n",
    "#    available to each process.\n",
    "# Macro @distributed [reducer] - make a parallel for-loop"
   ]
  },
  {
   "cell_type": "code",
   "execution_count": 3,
   "metadata": {},
   "outputs": [
    {
     "name": "stdout",
     "output_type": "stream",
     "text": [
      "\"Libraries loaded\"\n"
     ]
    }
   ],
   "source": [
    "# Load packages\n",
    "using Images\n",
    "using DataFrames\n",
    "using CSV\n",
    "using DecisionTree(vcat)\n",
    "using Statistics\n",
    "\n",
    "# Helping function\n",
    "showln(x) = (show(x); println())\n",
    "\n",
    "showln(\"Libraries loaded\")"
   ]
  },
  {
   "cell_type": "code",
   "execution_count": 4,
   "metadata": {},
   "outputs": [
    {
     "name": "stdout",
     "output_type": "stream",
     "text": [
      "((6283, 400), (6220, 400), (6283,))\n",
      "\"Loaded X_train, X_test, y_train\"\n"
     ]
    }
   ],
   "source": [
    "# Load datasets (see julia_guide_kaggle.ipynb for details)\n",
    "function read_image(dataset_type, labels_info, image_size, dataset_dir_path)\n",
    "    # Initialize X matrix\n",
    "    X = zeros(size(labels_info, 1), image_size)\n",
    "    for (idx, image_id) in enumerate(labels_info[:ID])\n",
    "        # Load image\n",
    "        image_full_path = \"$(dataset_dir_path)/$(dataset_type)Resized/$(image_id).Bmp\"\n",
    "        image = load(image_full_path)\n",
    "        image_greyscale = Gray.(image)\n",
    "        # Transform image matrix to a vector and store it in data matrix\n",
    "        X[idx, :] = reshape(image_greyscale, 1, image_size)\n",
    "    end\n",
    "    return X\n",
    "end\n",
    "\n",
    "image_size = 20 * 20\n",
    "dataset_dir_path = \"/home/max/Documents/ai/julia/julia_kaggle/data\"\n",
    "\n",
    "train_labels_info = CSV.read(\"$(dataset_dir_path)/trainLabels.csv\")\n",
    "test_labels_info = CSV.read(\"$(dataset_dir_path)/sampleSubmission.csv\")\n",
    "X_train = read_image(\"train\", train_labels_info, image_size, dataset_dir_path)\n",
    "X_test = read_image(\"test\", test_labels_info, image_size, dataset_dir_path)\n",
    "y_train = map(col_value -> col_value[1], train_labels_info[:Class])\n",
    "y_train = convert(Array{Int64, 1}, y_train)\n",
    "\n",
    "showln((size(X_train), size(X_test), size(y_train)))\n",
    "\n",
    "showln(\"Loaded X_train, X_test, y_train\")"
   ]
  },
  {
   "cell_type": "code",
   "execution_count": 5,
   "metadata": {},
   "outputs": [
    {
     "name": "stdout",
     "output_type": "stream",
     "text": [
      "((400, 6283), (400, 6220))\n"
     ]
    }
   ],
   "source": [
    "# Prepare data for kNN algorithm\n",
    "\n",
    "# Transpose X_train and X_test matrices\n",
    "# In Julia, iteration over columns is faster than iteration over rows.\n",
    "# Now, each column == one image file\n",
    "X_train_tp = X_train'\n",
    "X_test_tp = X_test'\n",
    "\n",
    "showln((size(X_train_tp), size(X_test_tp)))"
   ]
  },
  {
   "cell_type": "code",
   "execution_count": 6,
   "metadata": {},
   "outputs": [
    {
     "name": "stdout",
     "output_type": "stream",
     "text": [
      "\"Created vectorized and forloop functions to calculate euclidean distance\"\n"
     ]
    }
   ],
   "source": [
    "# Define distance function for kNN algorithm between 2 data points == 2 images\n",
    "\n",
    "# NOTE: In Julia, 'for' loops can be faster than vectorized operations\n",
    "\n",
    "@everywhere function euclidean_distance_vectorized(a, b)\n",
    "    return dot(a-b, a-b)\n",
    "end\n",
    "\n",
    "@everywhere function euclidean_distance_forloop(a, b)\n",
    "    distance = 0.0\n",
    "    for i in 1:size(a, 1)\n",
    "        distance += (a[i] - b[i]) * (a[i] - b[i])\n",
    "    end\n",
    "    return distance\n",
    "end\n",
    "\n",
    "showln(\"Created vectorized and forloop functions to calculate euclidean distance\")"
   ]
  },
  {
   "cell_type": "code",
   "execution_count": 7,
   "metadata": {},
   "outputs": [
    {
     "name": "stdout",
     "output_type": "stream",
     "text": [
      "\"Created function to get k nearest neighbors\"\n"
     ]
    }
   ],
   "source": [
    "# Define kNN function\n",
    "\n",
    "# NOTE: in Julia, creating an empty vector and filling it with each \n",
    "# element at a time is faster than copying the entire vector at once.\n",
    "\n",
    "# NOTE: Since the code calculates the distance between the i data point\n",
    "# and all the points in the training data, the closest point to\n",
    "# the i point is itself with a distance of zero. Hence, we EXCLUDE it and\n",
    "# select the next k points.\n",
    "\n",
    "# Find k nearest neighbors of data point i\n",
    "@everywhere function get_k_nearest_neighbors(X, i, k)\n",
    "    n_rows, n_cols = size(X)\n",
    "    ith_image = Array{Float32}(undef, n_rows)\n",
    "    for i_idx in 1:n_rows\n",
    "        ith_image[i_idx] = X[i_idx, i]\n",
    "    end\n",
    "    distances = Array{Float32}(undef, n_cols) # empty vector that will contain distances between i data point and each data point in the X matrix.\n",
    "    jth_image = Array{Float32}(undef, n_rows)  # empty vector that will contain the j data point.\n",
    "    for j_idx in 1:n_cols\n",
    "        for i_idx in 1:n_rows\n",
    "            jth_image[i_idx] = X[i_idx, j_idx]\n",
    "        end\n",
    "        # Calculate the distance and save the result\n",
    "        distances[j_idx] = euclidean_distance_forloop(ith_image, jth_image)\n",
    "    end\n",
    "    sorted_neighbors = sortperm(distances)\n",
    "    nearest_neighbors = sorted_neighbors[2:k+1]  # note: start with the 2nd one\n",
    "    return nearest_neighbors\n",
    "end\n",
    "\n",
    "showln(\"Created function to get k nearest neighbors\")"
   ]
  },
  {
   "cell_type": "code",
   "execution_count": 8,
   "metadata": {},
   "outputs": [
    {
     "name": "stdout",
     "output_type": "stream",
     "text": [
      "\"Created function to assign label using kNN\"\n"
     ]
    }
   ],
   "source": [
    "# Assign label to the ith point according to the labels of the k nearest neighbors\n",
    "\n",
    "# training data: X matrix\n",
    "# labels: y vector\n",
    "@everywhere function assign_label(X, y, k, i)\n",
    "    nearest_neighbors = get_k_nearest_neighbors(X, i, k)\n",
    "    labels_counts = Dict{Int, Int}()\n",
    "    highest_count = 0\n",
    "    most_popular_label = 0\n",
    "    for neighbor in nearest_neighbors\n",
    "        neighbor_label = y[neighbor]\n",
    "        if !haskey(labels_counts, neighbor_label)\n",
    "            labels_counts[neighbor_label] = 0\n",
    "        end\n",
    "        labels_counts[neighbor_label] += 1\n",
    "        if labels_counts[neighbor_label] > highest_count\n",
    "            highest_count = labels_counts[neighbor_label]\n",
    "            most_popular_label = neighbor_label\n",
    "        end\n",
    "    end\n",
    "    return most_popular_label\n",
    "end\n",
    "\n",
    "showln(\"Created function to assign label using kNN\")"
   ]
  },
  {
   "cell_type": "code",
   "execution_count": 19,
   "metadata": {},
   "outputs": [
    {
     "data": {
      "text/plain": [
       "(6283,)"
      ]
     },
     "metadata": {},
     "output_type": "display_data"
    },
    {
     "data": {
      "text/plain": [
       "(6283,)"
      ]
     },
     "metadata": {},
     "output_type": "display_data"
    },
    {
     "name": "stdout",
     "output_type": "stream",
     "text": [
      "(6283,)\n"
     ]
    }
   ],
   "source": [
    "# Assign label to each point in the training data\n",
    "k = 3\n",
    "y_predictions = @distributed (vcat) for i in 1:size(y_train, 1)\n",
    "    assign_label(X_train_tp, y_train, k, i)\n",
    "end\n",
    "\n",
    "showln(size(y_predictions))\n",
    "\n",
    "display(size(y_predictions))\n",
    "display(size(y_train))"
   ]
  },
  {
   "cell_type": "code",
   "execution_count": 26,
   "metadata": {},
   "outputs": [
    {
     "name": "stdout",
     "output_type": "stream",
     "text": [
      "\"LOOF-CV accuracyy of 1-NN is 0.4453286646506446\"\n"
     ]
    }
   ],
   "source": [
    "# Measure accuracy of the model by comparing our predictions with the true labels\n",
    "loof_cv_accuracy = mean(y_predictions .== y_train)\n",
    "showln(\"LOOF-CV accuracyy of 1-NN is $(loof_cv_accuracy)\")  # k=1: 0.444; k=3: 0.445; k=5: 0.428"
   ]
  },
  {
   "cell_type": "code",
   "execution_count": 11,
   "metadata": {},
   "outputs": [],
   "source": [
    "# todo: @time with transposed and NON transposed data\n",
    "# todo: @time with vectorized and for loop for euclidian distance"
   ]
  }
 ],
 "metadata": {
  "kernelspec": {
   "display_name": "Julia 1.1.1",
   "language": "julia",
   "name": "julia-1.1"
  },
  "language_info": {
   "file_extension": ".jl",
   "mimetype": "application/julia",
   "name": "julia",
   "version": "1.1.1"
  }
 },
 "nbformat": 4,
 "nbformat_minor": 2
}
