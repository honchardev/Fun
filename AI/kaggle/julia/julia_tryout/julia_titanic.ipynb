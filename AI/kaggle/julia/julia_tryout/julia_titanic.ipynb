{
 "cells": [
  {
   "cell_type": "code",
   "execution_count": 1,
   "metadata": {},
   "outputs": [],
   "source": [
    "# src: http://ajkl.github.io/2015/08/10/Titanic-with-Julia/\n",
    "\n",
    "# DataFrame introduction\n",
    "# https://en.wikibooks.org/wiki/Introducing_Julia/DataFrames\n",
    "\n",
    "# Julia documentation index.html\n",
    "# https://docs.julialang.org/en/v1/manual/documentation/index.html\n",
    "\n",
    "# Plots.jl\n",
    "# https://github.com/JuliaPlots/Plots.jl\n",
    "    # backends: http://docs.juliaplots.org/latest/backends/\n",
    "        # PyPlot https://github.com/JuliaPy/PyPlot.jl\n",
    "            # examples: https://docs.juliaplots.org/latest/examples/pyplot/"
   ]
  },
  {
   "cell_type": "code",
   "execution_count": 12,
   "metadata": {},
   "outputs": [
    {
     "name": "stderr",
     "output_type": "stream",
     "text": [
      "┌ Info: Precompiling DataArrays [0fe7c1db-08c2-54a3-a222-6d1d3b7a471a]\n",
      "└ @ Base loading.jl:1186\n",
      "ERROR: LoadError: LoadError: UndefVarError: start not defined\n",
      "Stacktrace:\n",
      " [1] getproperty(::Module, ::Symbol) at ./sysimg.jl:13\n",
      " [2] top-level scope at none:0\n",
      " [3] include at ./boot.jl:326 [inlined]\n",
      " [4] include_relative(::Module, ::String) at ./loading.jl:1038\n",
      " [5] include at ./sysimg.jl:29 [inlined]\n",
      " [6] include(::String) at /home/max/.julia/packages/DataArrays/mcLPH/src/DataArrays.jl:3\n",
      " [7] top-level scope at none:0\n",
      " [8] include at ./boot.jl:326 [inlined]\n",
      " [9] include_relative(::Module, ::String) at ./loading.jl:1038\n",
      " [10] include(::Module, ::String) at ./sysimg.jl:29\n",
      " [11] top-level scope at none:2\n",
      " [12] eval at ./boot.jl:328 [inlined]\n",
      " [13] eval(::Expr) at ./client.jl:404\n",
      " [14] top-level scope at ./none:3\n",
      "in expression starting at /home/max/.julia/packages/DataArrays/mcLPH/src/abstractdataarray.jl:27\n",
      "in expression starting at /home/max/.julia/packages/DataArrays/mcLPH/src/DataArrays.jl:45\n"
     ]
    },
    {
     "ename": "ErrorException",
     "evalue": "Failed to precompile DataArrays [0fe7c1db-08c2-54a3-a222-6d1d3b7a471a] to /home/max/.julia/compiled/v1.1/DataArrays/ZAWTY.ji.",
     "output_type": "error",
     "traceback": [
      "Failed to precompile DataArrays [0fe7c1db-08c2-54a3-a222-6d1d3b7a471a] to /home/max/.julia/compiled/v1.1/DataArrays/ZAWTY.ji.",
      "",
      "Stacktrace:",
      " [1] error(::String) at ./error.jl:33",
      " [2] compilecache(::Base.PkgId, ::String) at ./loading.jl:1197",
      " [3] _require(::Base.PkgId) at ./loading.jl:960",
      " [4] require(::Base.PkgId) at ./loading.jl:858",
      " [5] require(::Module, ::Symbol) at ./loading.jl:853",
      " [6] top-level scope at In[12]:6"
     ]
    }
   ],
   "source": [
    "# Load libraries\n",
    "using DataArrays\n",
    "using DataFrames\n",
    "using CSV\n",
    "using FreqTables\n",
    "using StatsBase\n",
    "\n",
    "using Gadfly\n",
    "\n",
    "# Snippet to use show() and println() in one line\n",
    "showln(x) = (show(x); println())\n",
    "showln(\"Libraries loaded\")"
   ]
  },
  {
   "cell_type": "code",
   "execution_count": 3,
   "metadata": {},
   "outputs": [
    {
     "name": "stdout",
     "output_type": "stream",
     "text": [
      "\"Train and Test set loaded\"\n"
     ]
    }
   ],
   "source": [
    "# Load dataset\n",
    "\n",
    "train_set = CSV.read(\"titanic/train.csv\")\n",
    "test_set = CSV.read(\"titanic/test.csv\")\n",
    "\n",
    "showln(\"Train and Test set loaded\")"
   ]
  },
  {
   "cell_type": "code",
   "execution_count": 4,
   "metadata": {},
   "outputs": [
    {
     "name": "stdout",
     "output_type": "stream",
     "text": [
      "train_set head, 3 elements:\n",
      "3×12 DataFrame. Omitted printing of 9 columns\n",
      "│ Row │ PassengerId │ Survived │ Pclass │\n",
      "│     │ \u001b[90mInt64\u001b[39m       │ \u001b[90mInt64\u001b[39m    │ \u001b[90mInt64\u001b[39m  │\n",
      "├─────┼─────────────┼──────────┼────────┤\n",
      "│ 1   │ 1           │ 0        │ 3      │\n",
      "│ 2   │ 2           │ 1        │ 1      │\n",
      "│ 3   │ 3           │ 1        │ 3      │\n",
      "train_set tail, 3 elements:\n",
      "3×12 DataFrame. Omitted printing of 9 columns\n",
      "│ Row │ PassengerId │ Survived │ Pclass │\n",
      "│     │ \u001b[90mInt64\u001b[39m       │ \u001b[90mInt64\u001b[39m    │ \u001b[90mInt64\u001b[39m  │\n",
      "├─────┼─────────────┼──────────┼────────┤\n",
      "│ 1   │ 889         │ 0        │ 3      │\n",
      "│ 2   │ 890         │ 1        │ 1      │\n",
      "│ 3   │ 891         │ 0        │ 3      │\n",
      "train_set column names:\n",
      "Symbol[:PassengerId, :Survived, :Pclass, :Name, :Sex, :Age, :SibSp, :Parch, :Ticket, :Fare, :Cabin, :Embarked]\n",
      "train_set column types:\n",
      "Type[Int64, Int64, Int64, String, String, Union{Missing, Float64}, Int64, Int64, String, Float64, Union{Missing, String}, Union{Missing, String}]\n",
      "train_set shape:\n",
      "(891, 12)\n",
      "Describe train_set:\n",
      "12×8 DataFrame\n",
      "│ Row │ variable    │ mean     │ min                 │ median  │\n",
      "│     │ \u001b[90mSymbol\u001b[39m      │ \u001b[90mUnion…\u001b[39m   │ \u001b[90mAny\u001b[39m                 │ \u001b[90mUnion…\u001b[39m  │\n",
      "├─────┼─────────────┼──────────┼─────────────────────┼─────────┤\n",
      "│ 1   │ PassengerId │ 446.0    │ 1                   │ 446.0   │\n",
      "│ 2   │ Survived    │ 0.383838 │ 0                   │ 0.0     │\n",
      "│ 3   │ Pclass      │ 2.30864  │ 1                   │ 3.0     │\n",
      "│ 4   │ Name        │          │ Abbing, Mr. Anthony │         │\n",
      "│ 5   │ Sex         │          │ female              │         │\n",
      "│ 6   │ Age         │ 29.6991  │ 0.42                │ 28.0    │\n",
      "│ 7   │ SibSp       │ 0.523008 │ 0                   │ 0.0     │\n",
      "│ 8   │ Parch       │ 0.381594 │ 0                   │ 0.0     │\n",
      "│ 9   │ Ticket      │          │ 110152              │         │\n",
      "│ 10  │ Fare        │ 32.2042  │ 0.0                 │ 14.4542 │\n",
      "│ 11  │ Cabin       │          │ A10                 │         │\n",
      "│ 12  │ Embarked    │          │ C                   │         │\n",
      "\n",
      "│ Row │ max                         │ nunique │ nmissing │ eltype   │\n",
      "│     │ \u001b[90mAny\u001b[39m                         │ \u001b[90mUnion…\u001b[39m  │ \u001b[90mUnion…\u001b[39m   │ \u001b[90mDataType\u001b[39m │\n",
      "├─────┼─────────────────────────────┼─────────┼──────────┼──────────┤\n",
      "│ 1   │ 891                         │         │          │ Int64    │\n",
      "│ 2   │ 1                           │         │          │ Int64    │\n",
      "│ 3   │ 3                           │         │          │ Int64    │\n",
      "│ 4   │ van Melkebeke, Mr. Philemon │ 891     │          │ String   │\n",
      "│ 5   │ male                        │ 2       │          │ String   │\n",
      "│ 6   │ 80.0                        │         │ 177      │ Float64  │\n",
      "│ 7   │ 8                           │         │          │ Int64    │\n",
      "│ 8   │ 6                           │         │          │ Int64    │\n",
      "│ 9   │ WE/P 5735                   │ 681     │          │ String   │\n",
      "│ 10  │ 512.329                     │         │          │ Float64  │\n",
      "│ 11  │ T                           │ 147     │ 687      │ String   │\n",
      "│ 12  │ S                           │ 3       │ 2        │ String   │"
     ]
    }
   ],
   "source": [
    "# Describe loaded train set\n",
    "println(\"train_set head, 3 elements:\")\n",
    "showln(first(train_set, 3))\n",
    "println(\"train_set tail, 3 elements:\")\n",
    "showln(last(train_set, 3))\n",
    "println(\"train_set column names:\")\n",
    "showln(names(train_set))\n",
    "println(\"train_set column types:\")\n",
    "showln(eltypes(train_set))\n",
    "println(\"train_set shape:\")\n",
    "showln(size(train_set))\n",
    "println(\"Describe train_set:\")\n",
    "show(describe(train_set), allcols=true)"
   ]
  },
  {
   "cell_type": "code",
   "execution_count": 5,
   "metadata": {},
   "outputs": [
    {
     "name": "stdout",
     "output_type": "stream",
     "text": [
      "test_set shape:\n",
      "(418, 11)\n",
      "Describe test_set:\n",
      "11×8 DataFrame\n",
      "│ Row │ variable    │ mean     │ min                           │ median  │\n",
      "│     │ \u001b[90mSymbol\u001b[39m      │ \u001b[90mUnion…\u001b[39m   │ \u001b[90mAny\u001b[39m                           │ \u001b[90mUnion…\u001b[39m  │\n",
      "├─────┼─────────────┼──────────┼───────────────────────────────┼─────────┤\n",
      "│ 1   │ PassengerId │ 1100.5   │ 892                           │ 1100.5  │\n",
      "│ 2   │ Pclass      │ 2.26555  │ 1                             │ 3.0     │\n",
      "│ 3   │ Name        │          │ Abbott, Master. Eugene Joseph │         │\n",
      "│ 4   │ Sex         │          │ female                        │         │\n",
      "│ 5   │ Age         │ 30.2726  │ 0.17                          │ 27.0    │\n",
      "│ 6   │ SibSp       │ 0.447368 │ 0                             │ 0.0     │\n",
      "│ 7   │ Parch       │ 0.392344 │ 0                             │ 0.0     │\n",
      "│ 8   │ Ticket      │          │ 110469                        │         │\n",
      "│ 9   │ Fare        │ 35.6272  │ 0.0                           │ 14.4542 │\n",
      "│ 10  │ Cabin       │          │ A11                           │         │\n",
      "│ 11  │ Embarked    │          │ C                             │         │\n",
      "\n",
      "│ Row │ max                               │ nunique │ nmissing │ eltype   │\n",
      "│     │ \u001b[90mAny\u001b[39m                               │ \u001b[90mUnion…\u001b[39m  │ \u001b[90mUnion…\u001b[39m   │ \u001b[90mDataType\u001b[39m │\n",
      "├─────┼───────────────────────────────────┼─────────┼──────────┼──────────┤\n",
      "│ 1   │ 1309                              │         │          │ Int64    │\n",
      "│ 2   │ 3                                 │         │          │ Int64    │\n",
      "│ 3   │ van Billiard, Master. Walter John │ 418     │          │ String   │\n",
      "│ 4   │ male                              │ 2       │          │ String   │\n",
      "│ 5   │ 76.0                              │         │ 86       │ Float64  │\n",
      "│ 6   │ 8                                 │         │          │ Int64    │\n",
      "│ 7   │ 9                                 │         │          │ Int64    │\n",
      "│ 8   │ W.E.P. 5734                       │ 363     │          │ String   │\n",
      "│ 9   │ 512.329                           │         │ 1        │ Float64  │\n",
      "│ 10  │ G6                                │ 76      │ 327      │ String   │\n",
      "│ 11  │ S                                 │ 3       │          │ String   │"
     ]
    }
   ],
   "source": [
    "# Describe loaded test set\n",
    "println(\"test_set shape:\")\n",
    "showln(size(test_set))\n",
    "println(\"Describe test_set:\")\n",
    "show(describe(test_set), allcols=true)"
   ]
  },
  {
   "cell_type": "code",
   "execution_count": 6,
   "metadata": {},
   "outputs": [
    {
     "name": "stdout",
     "output_type": "stream",
     "text": [
      "Showing unique values for train_set:\n",
      "PassengerId has too many unique values to display\n",
      "Survived, unique values are [0, 1]\n",
      "Pclass, unique values are [3, 1, 2]\n",
      "Name has too many unique values to display\n",
      "Sex, unique values are [\"male\", \"female\"]\n",
      "Age has too many unique values to display\n",
      "SibSp, unique values are [1, 0, 3, 4, 2, 5, 8]\n",
      "Parch, unique values are [0, 1, 2, 5, 3, 4, 6]\n",
      "Ticket has too many unique values to display\n",
      "Fare has too many unique values to display\n",
      "Cabin has too many unique values to display\n",
      "Embarked, unique values are Union{Missing, String}"
     ]
    },
    {
     "data": {
      "text/plain": [
       "549"
      ]
     },
     "metadata": {},
     "output_type": "display_data"
    },
    {
     "data": {
      "text/plain": [
       "342"
      ]
     },
     "metadata": {},
     "output_type": "display_data"
    },
    {
     "data": {
      "text/plain": [
       "2-element Named Array{Int64,1}\n",
       "Dim1  │ \n",
       "──────┼────\n",
       "0     │ 549\n",
       "1     │ 342"
      ]
     },
     "metadata": {},
     "output_type": "display_data"
    },
    {
     "data": {
      "text/plain": [
       "Dict{Int64,Int64} with 2 entries:\n",
       "  0 => 549\n",
       "  1 => 342"
      ]
     },
     "metadata": {},
     "output_type": "display_data"
    },
    {
     "data": {
      "text/plain": [
       "2-element Array{Int64,1}:\n",
       " 549\n",
       " 342"
      ]
     },
     "metadata": {},
     "output_type": "display_data"
    },
    {
     "name": "stdout",
     "output_type": "stream",
     "text": [
      "[\"S\", \"C\", \"Q\", missing]\n",
      "\n",
      "Showing unique values for test_set:\n",
      "PassengerId has too many unique values to display\n",
      "Pclass, unique values are [3, 2, 1]\n",
      "Name has too many unique values to display\n",
      "Sex, unique values are [\"male\", \"female\"]\n",
      "Age has too many unique values to display\n",
      "SibSp, unique values are [0, 1, 2, 3, 4, 5, 8]\n",
      "Parch, unique values are [0, 1, 3, 2, 4, 6, 5, 9]\n",
      "Ticket has too many unique values to display\n",
      "Fare has too many unique values to display\n",
      "Cabin has too many unique values to display\n",
      "Embarked, unique values are [\"Q\", \"S\", \"C\"]\n"
     ]
    }
   ],
   "source": [
    "# Exploratory data analysis\n",
    "\n",
    "# Explore unique values in every column\n",
    "\n",
    "# Way 0: custom\n",
    "function show_unique_values(dataset::DataFrame, max_unique_vals::Int64=10)\n",
    "    for column_symbol in names(dataset)\n",
    "        unique_col_values = unique(dataset[column_symbol])\n",
    "        if size(unique_col_values, 1) < max_unique_vals\n",
    "            println(column_symbol, \", unique values are \", unique_col_values)\n",
    "        else\n",
    "            println(column_symbol, \" has too many unique values to display\")\n",
    "        end\n",
    "    end\n",
    "end\n",
    "\n",
    "println(\"Showing unique values for train_set:\")\n",
    "show_unique_values(train_set)\n",
    "\n",
    "println()\n",
    "\n",
    "println(\"Showing unique values for test_set:\")\n",
    "show_unique_values(test_set)\n",
    "\n",
    "# Way 1\n",
    "survive_zero = count(i -> (i == 0), train_set[:Survived])\n",
    "survive_one = count(i -> (i == 1), train_set[:Survived])\n",
    "display(survive_zero)\n",
    "display(survive_one)\n",
    "\n",
    "# Way 2: \"using FreqTables\"\n",
    "survive_freq_table = freqtable(train_set[:Survived])\n",
    "display(survive_freq_table)\n",
    "\n",
    "# Way 3: \"using StatsBase\"\n",
    "display(countmap(train_set[:Survived]))\n",
    "\n",
    "# Way 4: \"using StatsBase\"\n",
    "display(counts(train_set[:Survived]))"
   ]
  },
  {
   "cell_type": "code",
   "execution_count": 7,
   "metadata": {},
   "outputs": [
    {
     "data": {
      "text/plain": [
       "2-element Array{Float64,1}:\n",
       " 0.6161616161616162 \n",
       " 0.38383838383838387"
      ]
     },
     "metadata": {},
     "output_type": "display_data"
    },
    {
     "data": {
      "text/plain": [
       "Dict{Int64,Float64} with 2 entries:\n",
       "  0 => 0.616162\n",
       "  1 => 0.383838"
      ]
     },
     "metadata": {},
     "output_type": "display_data"
    },
    {
     "data": {
      "text/plain": [
       "Dict{String,Int64} with 2 entries:\n",
       "  \"male\"   => 577\n",
       "  \"female\" => 314"
      ]
     },
     "metadata": {},
     "output_type": "display_data"
    }
   ],
   "source": [
    "# View proportions of people survived / not survived\n",
    "display(proportions(train_set[:Survived]))\n",
    "display(proportionmap(train_set[:Survived]))\n",
    "\n",
    "# \"counts\" does not work for categorical variables. \n",
    "# Use \"countmap()\" instead\n",
    "display(countmap(train_set[:Sex]))"
   ]
  },
  {
   "cell_type": "code",
   "execution_count": 11,
   "metadata": {},
   "outputs": [
    {
     "ename": "UndefVarError",
     "evalue": "UndefVarError: isna not defined",
     "output_type": "error",
     "traceback": [
      "UndefVarError: isna not defined",
      "",
      "Stacktrace:",
      " [1] top-level scope at In[11]:3"
     ]
    }
   ],
   "source": [
    "# Create dimension: indicate if person was a child or not\n",
    "train_set[:Child] = 1\n",
    "train_set[isna(train_set[:Age]), :Child] = 1\n",
    "\n",
    "train_set[train_set[:Age] .< 18, :Child] = 1\n",
    "train_set[train_set[:Age] .> 18, :Child] = 0\n",
    "\n",
    "display(head(train_set))"
   ]
  },
  {
   "cell_type": "code",
   "execution_count": null,
   "metadata": {},
   "outputs": [],
   "source": [
    "# NOTE: this notebook isn't finished"
   ]
  }
 ],
 "metadata": {
  "kernelspec": {
   "display_name": "Julia 1.1.1",
   "language": "julia",
   "name": "julia-1.1"
  },
  "language_info": {
   "file_extension": ".jl",
   "mimetype": "application/julia",
   "name": "julia",
   "version": "1.1.1"
  }
 },
 "nbformat": 4,
 "nbformat_minor": 2
}
