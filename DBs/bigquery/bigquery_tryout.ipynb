{
 "cells": [
  {
   "cell_type": "markdown",
   "metadata": {},
   "source": [
    "Kaggle intro"
   ]
  },
  {
   "cell_type": "code",
   "execution_count": 1,
   "metadata": {},
   "outputs": [],
   "source": [
    "# https://cloud.google.com/storage/docs/reference/libraries\n",
    "\n",
    "def create_bucket():\n",
    "    # Imports the Google Cloud client library\n",
    "    from google.cloud import storage\n",
    "\n",
    "    # Instantiates a client\n",
    "    storage_client = storage.Client()\n",
    "\n",
    "    # The name for the new bucket\n",
    "    bucket_name = 'my-first-bucket-max-gonchar-oct-25'\n",
    "\n",
    "    # Creates the new bucket\n",
    "    bucket = storage_client.create_bucket(bucket_name)\n",
    "\n",
    "    print('Bucket {} created.'.format(bucket.name))\n",
    "    \n",
    "    \n",
    "# create_bucket()"
   ]
  },
  {
   "cell_type": "code",
   "execution_count": 2,
   "metadata": {},
   "outputs": [
    {
     "name": "stdout",
     "output_type": "stream",
     "text": [
      "[<Bucket: my-first-bucket-max-gonchar-oct-25>]\n"
     ]
    }
   ],
   "source": [
    "# https://cloud.google.com/docs/authentication/getting-started#auth-cloud-implicit-python\n",
    "\n",
    "def list_buckets():\n",
    "    from google.cloud import storage\n",
    "\n",
    "    # If you don't specify credentials when constructing the client, the\n",
    "    # client library will look for credentials in the environment.\n",
    "    storage_client = storage.Client()\n",
    "\n",
    "    # Make an authenticated API request\n",
    "    buckets = list(storage_client.list_buckets())\n",
    "    print(buckets)\n",
    "\n",
    "    \n",
    "list_buckets()"
   ]
  },
  {
   "cell_type": "code",
   "execution_count": 3,
   "metadata": {},
   "outputs": [],
   "source": [
    "from google.cloud import bigquery"
   ]
  },
  {
   "cell_type": "code",
   "execution_count": 4,
   "metadata": {},
   "outputs": [],
   "source": [
    "# Client object - a central role in retrieving information from BigQuery datasets\n",
    "\n",
    "# Client objects hold projects and a connection to the BigQuery service\n",
    "\n",
    "client = bigquery.Client()"
   ]
  },
  {
   "cell_type": "code",
   "execution_count": 5,
   "metadata": {},
   "outputs": [],
   "source": [
    "# bigquery-public-data is a project\n",
    "# A project is a collection of datasets\n",
    "\n",
    "# hacker-news is a dataset\n",
    "# A dataset is a collection of tables\n",
    "\n",
    "# Construct a reference to the \"hacker_news\" dataset\n",
    "dataset_ref = client.dataset('hacker_news', project='bigquery-public-data')\n",
    "\n",
    "# Do an API request to fetch the dataset\n",
    "hacker_news_dataset = client.get_dataset(dataset_ref)"
   ]
  },
  {
   "cell_type": "code",
   "execution_count": 6,
   "metadata": {},
   "outputs": [
    {
     "data": {
      "text/plain": [
       "'comments'"
      ]
     },
     "metadata": {},
     "output_type": "display_data"
    },
    {
     "data": {
      "text/plain": [
       "'full'"
      ]
     },
     "metadata": {},
     "output_type": "display_data"
    },
    {
     "data": {
      "text/plain": [
       "'full_201510'"
      ]
     },
     "metadata": {},
     "output_type": "display_data"
    },
    {
     "data": {
      "text/plain": [
       "'stories'"
      ]
     },
     "metadata": {},
     "output_type": "display_data"
    }
   ],
   "source": [
    "# List tables in the dataset\n",
    "# Dataset is like a spreadsheet file containing multiple tables\n",
    "\n",
    "dataset_tables = list(client.list_tables(hacker_news_dataset))\n",
    "\n",
    "for table in dataset_tables:\n",
    "    display(table.table_id)"
   ]
  },
  {
   "cell_type": "code",
   "execution_count": 7,
   "metadata": {},
   "outputs": [],
   "source": [
    "# Fetch table\n",
    "comments_table_ref = dataset_ref.table('comments')\n",
    "table = client.get_table(comments_table_ref)"
   ]
  },
  {
   "cell_type": "code",
   "execution_count": 8,
   "metadata": {},
   "outputs": [
    {
     "data": {
      "text/plain": [
       "[SchemaField('id', 'INTEGER', 'NULLABLE', 'Unique comment ID', ()),\n",
       " SchemaField('by', 'STRING', 'NULLABLE', 'Username of commenter', ()),\n",
       " SchemaField('author', 'STRING', 'NULLABLE', 'Username of author', ()),\n",
       " SchemaField('time', 'INTEGER', 'NULLABLE', 'Unix time', ()),\n",
       " SchemaField('time_ts', 'TIMESTAMP', 'NULLABLE', 'Human readable time in UTC (format: YYYY-MM-DD hh:mm:ss)', ()),\n",
       " SchemaField('text', 'STRING', 'NULLABLE', 'Comment text', ()),\n",
       " SchemaField('parent', 'INTEGER', 'NULLABLE', 'Parent comment ID', ()),\n",
       " SchemaField('deleted', 'BOOLEAN', 'NULLABLE', 'Is deleted?', ()),\n",
       " SchemaField('dead', 'BOOLEAN', 'NULLABLE', 'Is dead?', ()),\n",
       " SchemaField('ranking', 'INTEGER', 'NULLABLE', 'Comment ranking', ())]"
      ]
     },
     "metadata": {},
     "output_type": "display_data"
    }
   ],
   "source": [
    "# Overview table schema\n",
    "\n",
    "# Column == Field\n",
    "\n",
    "# SchemaField format:\n",
    "# name of the column\n",
    "# mode of the column (NULLABLE - allows NULL values)\n",
    "# description\n",
    "\n",
    "display(table.schema)"
   ]
  },
  {
   "cell_type": "code",
   "execution_count": 9,
   "metadata": {},
   "outputs": [
    {
     "data": {
      "text/html": [
       "<div>\n",
       "<style scoped>\n",
       "    .dataframe tbody tr th:only-of-type {\n",
       "        vertical-align: middle;\n",
       "    }\n",
       "\n",
       "    .dataframe tbody tr th {\n",
       "        vertical-align: top;\n",
       "    }\n",
       "\n",
       "    .dataframe thead th {\n",
       "        text-align: right;\n",
       "    }\n",
       "</style>\n",
       "<table border=\"1\" class=\"dataframe\">\n",
       "  <thead>\n",
       "    <tr style=\"text-align: right;\">\n",
       "      <th></th>\n",
       "      <th>id</th>\n",
       "      <th>by</th>\n",
       "      <th>author</th>\n",
       "      <th>time</th>\n",
       "      <th>time_ts</th>\n",
       "      <th>text</th>\n",
       "      <th>parent</th>\n",
       "      <th>deleted</th>\n",
       "      <th>dead</th>\n",
       "      <th>ranking</th>\n",
       "    </tr>\n",
       "  </thead>\n",
       "  <tbody>\n",
       "    <tr>\n",
       "      <th>0</th>\n",
       "      <td>2701393</td>\n",
       "      <td>5l</td>\n",
       "      <td>5l</td>\n",
       "      <td>1309184881</td>\n",
       "      <td>2011-06-27 14:28:01+00:00</td>\n",
       "      <td>And the glazier who fixed all the broken windo...</td>\n",
       "      <td>2701243</td>\n",
       "      <td>None</td>\n",
       "      <td>None</td>\n",
       "      <td>0</td>\n",
       "    </tr>\n",
       "    <tr>\n",
       "      <th>1</th>\n",
       "      <td>5811403</td>\n",
       "      <td>99</td>\n",
       "      <td>99</td>\n",
       "      <td>1370234048</td>\n",
       "      <td>2013-06-03 04:34:08+00:00</td>\n",
       "      <td>Does canada have the equivalent of H1B/Green c...</td>\n",
       "      <td>5804452</td>\n",
       "      <td>None</td>\n",
       "      <td>None</td>\n",
       "      <td>0</td>\n",
       "    </tr>\n",
       "    <tr>\n",
       "      <th>2</th>\n",
       "      <td>21623</td>\n",
       "      <td>AF</td>\n",
       "      <td>AF</td>\n",
       "      <td>1178992400</td>\n",
       "      <td>2007-05-12 17:53:20+00:00</td>\n",
       "      <td>Speaking of Rails, there are other options in ...</td>\n",
       "      <td>21611</td>\n",
       "      <td>None</td>\n",
       "      <td>None</td>\n",
       "      <td>0</td>\n",
       "    </tr>\n",
       "  </tbody>\n",
       "</table>\n",
       "</div>"
      ],
      "text/plain": [
       "        id  by author        time                   time_ts  \\\n",
       "0  2701393  5l     5l  1309184881 2011-06-27 14:28:01+00:00   \n",
       "1  5811403  99     99  1370234048 2013-06-03 04:34:08+00:00   \n",
       "2    21623  AF     AF  1178992400 2007-05-12 17:53:20+00:00   \n",
       "\n",
       "                                                text   parent deleted  dead  \\\n",
       "0  And the glazier who fixed all the broken windo...  2701243    None  None   \n",
       "1  Does canada have the equivalent of H1B/Green c...  5804452    None  None   \n",
       "2  Speaking of Rails, there are other options in ...    21611    None  None   \n",
       "\n",
       "   ranking  \n",
       "0        0  \n",
       "1        0  \n",
       "2        0  "
      ]
     },
     "metadata": {},
     "output_type": "display_data"
    },
    {
     "data": {
      "text/html": [
       "<div>\n",
       "<style scoped>\n",
       "    .dataframe tbody tr th:only-of-type {\n",
       "        vertical-align: middle;\n",
       "    }\n",
       "\n",
       "    .dataframe tbody tr th {\n",
       "        vertical-align: top;\n",
       "    }\n",
       "\n",
       "    .dataframe thead th {\n",
       "        text-align: right;\n",
       "    }\n",
       "</style>\n",
       "<table border=\"1\" class=\"dataframe\">\n",
       "  <thead>\n",
       "    <tr style=\"text-align: right;\">\n",
       "      <th></th>\n",
       "      <th>id</th>\n",
       "      <th>by</th>\n",
       "    </tr>\n",
       "  </thead>\n",
       "  <tbody>\n",
       "    <tr>\n",
       "      <th>0</th>\n",
       "      <td>2701393</td>\n",
       "      <td>5l</td>\n",
       "    </tr>\n",
       "    <tr>\n",
       "      <th>1</th>\n",
       "      <td>5811403</td>\n",
       "      <td>99</td>\n",
       "    </tr>\n",
       "    <tr>\n",
       "      <th>2</th>\n",
       "      <td>21623</td>\n",
       "      <td>AF</td>\n",
       "    </tr>\n",
       "  </tbody>\n",
       "</table>\n",
       "</div>"
      ],
      "text/plain": [
       "        id  by\n",
       "0  2701393  5l\n",
       "1  5811403  99\n",
       "2    21623  AF"
      ]
     },
     "metadata": {},
     "output_type": "display_data"
    }
   ],
   "source": [
    "# Check just the first N lines of the table (to make sure the one is the right one)\n",
    "\n",
    "# client.list_rows -> RowIterator -> pd.DataFrame\n",
    "\n",
    "# list first 3 rows\n",
    "comments_df = client.list_rows(table, max_results=3).to_dataframe()\n",
    "display(comments_df)\n",
    "\n",
    "# list 3 rows of id and by colums\n",
    "author_rows_df = client.list_rows(table, selected_fields=table.schema[:2], max_results=3).to_dataframe()\n",
    "display(author_rows_df)"
   ]
  },
  {
   "cell_type": "code",
   "execution_count": 11,
   "metadata": {},
   "outputs": [],
   "source": [
    "chicago_dataset_ref = client.dataset('chicago_crime', project='bigquery-public-data')\n",
    "chicago_dataset = client.get_dataset(chicago_dataset_ref)"
   ]
  },
  {
   "cell_type": "code",
   "execution_count": 19,
   "metadata": {},
   "outputs": [
    {
     "data": {
      "text/plain": [
       "'crime'"
      ]
     },
     "metadata": {},
     "output_type": "display_data"
    },
    {
     "name": "stdout",
     "output_type": "stream",
     "text": [
      "tables cnt: 1\n"
     ]
    }
   ],
   "source": [
    "chicago_dataset_tables = list(client.list_tables(chicago_dataset_ref))\n",
    "for table in chicago_dataset_tables:\n",
    "    display(table.table_id)\n",
    "    \n",
    "\n",
    "table_cnt = len(chicago_dataset_tables)\n",
    "print('tables cnt: {0}'.format(table_cnt))"
   ]
  },
  {
   "cell_type": "code",
   "execution_count": 23,
   "metadata": {},
   "outputs": [],
   "source": [
    "crime_table_ref = chicago_dataset_ref.table('crime')\n",
    "crime_table = client.get_table(crime_table_ref)"
   ]
  },
  {
   "cell_type": "code",
   "execution_count": 30,
   "metadata": {},
   "outputs": [
    {
     "data": {
      "text/plain": [
       "22"
      ]
     },
     "metadata": {},
     "output_type": "display_data"
    }
   ],
   "source": [
    "columns_cnt = len(crime_table.schema)\n",
    "display(columns_cnt)"
   ]
  },
  {
   "cell_type": "code",
   "execution_count": 44,
   "metadata": {},
   "outputs": [
    {
     "data": {
      "text/html": [
       "<div>\n",
       "<style scoped>\n",
       "    .dataframe tbody tr th:only-of-type {\n",
       "        vertical-align: middle;\n",
       "    }\n",
       "\n",
       "    .dataframe tbody tr th {\n",
       "        vertical-align: top;\n",
       "    }\n",
       "\n",
       "    .dataframe thead th {\n",
       "        text-align: right;\n",
       "    }\n",
       "</style>\n",
       "<table border=\"1\" class=\"dataframe\">\n",
       "  <thead>\n",
       "    <tr style=\"text-align: right;\">\n",
       "      <th></th>\n",
       "      <th>latitude</th>\n",
       "      <th>longitude</th>\n",
       "    </tr>\n",
       "  </thead>\n",
       "  <tbody>\n",
       "    <tr>\n",
       "      <th>0</th>\n",
       "      <td>NaN</td>\n",
       "      <td>NaN</td>\n",
       "    </tr>\n",
       "    <tr>\n",
       "      <th>1</th>\n",
       "      <td>NaN</td>\n",
       "      <td>NaN</td>\n",
       "    </tr>\n",
       "    <tr>\n",
       "      <th>2</th>\n",
       "      <td>NaN</td>\n",
       "      <td>NaN</td>\n",
       "    </tr>\n",
       "    <tr>\n",
       "      <th>3</th>\n",
       "      <td>41.807911</td>\n",
       "      <td>-87.720354</td>\n",
       "    </tr>\n",
       "    <tr>\n",
       "      <th>4</th>\n",
       "      <td>41.969135</td>\n",
       "      <td>-87.798904</td>\n",
       "    </tr>\n",
       "  </tbody>\n",
       "</table>\n",
       "</div>"
      ],
      "text/plain": [
       "    latitude  longitude\n",
       "0        NaN        NaN\n",
       "1        NaN        NaN\n",
       "2        NaN        NaN\n",
       "3  41.807911 -87.720354\n",
       "4  41.969135 -87.798904"
      ]
     },
     "metadata": {},
     "output_type": "display_data"
    }
   ],
   "source": [
    "coordinates_df = client.list_rows(crime_table, selected_fields=crime_table.schema[-3:-1], max_results=500).to_dataframe()\n",
    "display(coordinates_df.head())"
   ]
  },
  {
   "cell_type": "code",
   "execution_count": 45,
   "metadata": {},
   "outputs": [
    {
     "name": "stdout",
     "output_type": "stream",
     "text": [
      "global_air_quality\n"
     ]
    }
   ],
   "source": [
    "openaq_dataset_ref = client.dataset('openaq', project='bigquery-public-data')\n",
    "openaq_dataset = client.get_dataset(openaq_dataset_ref)\n",
    "\n",
    "openaq_tables = list(client.list_tables(openaq_dataset))\n",
    "# dbg\n",
    "for table in openaq_tables:\n",
    "    print(table.table_id)"
   ]
  },
  {
   "cell_type": "code",
   "execution_count": 46,
   "metadata": {},
   "outputs": [],
   "source": [
    "openaq_table_ref = openaq_dataset_ref.table('global_air_quality')\n",
    "openaq_table = client.get_table(openaq_table_ref)"
   ]
  },
  {
   "cell_type": "code",
   "execution_count": 47,
   "metadata": {},
   "outputs": [
    {
     "data": {
      "text/html": [
       "<div>\n",
       "<style scoped>\n",
       "    .dataframe tbody tr th:only-of-type {\n",
       "        vertical-align: middle;\n",
       "    }\n",
       "\n",
       "    .dataframe tbody tr th {\n",
       "        vertical-align: top;\n",
       "    }\n",
       "\n",
       "    .dataframe thead th {\n",
       "        text-align: right;\n",
       "    }\n",
       "</style>\n",
       "<table border=\"1\" class=\"dataframe\">\n",
       "  <thead>\n",
       "    <tr style=\"text-align: right;\">\n",
       "      <th></th>\n",
       "      <th>location</th>\n",
       "      <th>city</th>\n",
       "      <th>country</th>\n",
       "      <th>pollutant</th>\n",
       "      <th>value</th>\n",
       "      <th>timestamp</th>\n",
       "      <th>unit</th>\n",
       "      <th>source_name</th>\n",
       "      <th>latitude</th>\n",
       "      <th>longitude</th>\n",
       "      <th>averaged_over_in_hours</th>\n",
       "    </tr>\n",
       "  </thead>\n",
       "  <tbody>\n",
       "    <tr>\n",
       "      <th>0</th>\n",
       "      <td>BTM Layout, Bengaluru - KSPCB</td>\n",
       "      <td>Bengaluru</td>\n",
       "      <td>IN</td>\n",
       "      <td>co</td>\n",
       "      <td>910.00</td>\n",
       "      <td>2018-02-22 03:00:00+00:00</td>\n",
       "      <td>µg/m³</td>\n",
       "      <td>CPCB</td>\n",
       "      <td>12.912811</td>\n",
       "      <td>77.60922</td>\n",
       "      <td>0.25</td>\n",
       "    </tr>\n",
       "    <tr>\n",
       "      <th>1</th>\n",
       "      <td>BTM Layout, Bengaluru - KSPCB</td>\n",
       "      <td>Bengaluru</td>\n",
       "      <td>IN</td>\n",
       "      <td>no2</td>\n",
       "      <td>131.87</td>\n",
       "      <td>2018-02-22 03:00:00+00:00</td>\n",
       "      <td>µg/m³</td>\n",
       "      <td>CPCB</td>\n",
       "      <td>12.912811</td>\n",
       "      <td>77.60922</td>\n",
       "      <td>0.25</td>\n",
       "    </tr>\n",
       "    <tr>\n",
       "      <th>2</th>\n",
       "      <td>BTM Layout, Bengaluru - KSPCB</td>\n",
       "      <td>Bengaluru</td>\n",
       "      <td>IN</td>\n",
       "      <td>o3</td>\n",
       "      <td>15.57</td>\n",
       "      <td>2018-02-22 03:00:00+00:00</td>\n",
       "      <td>µg/m³</td>\n",
       "      <td>CPCB</td>\n",
       "      <td>12.912811</td>\n",
       "      <td>77.60922</td>\n",
       "      <td>0.25</td>\n",
       "    </tr>\n",
       "    <tr>\n",
       "      <th>3</th>\n",
       "      <td>BTM Layout, Bengaluru - KSPCB</td>\n",
       "      <td>Bengaluru</td>\n",
       "      <td>IN</td>\n",
       "      <td>pm25</td>\n",
       "      <td>45.62</td>\n",
       "      <td>2018-02-22 03:00:00+00:00</td>\n",
       "      <td>µg/m³</td>\n",
       "      <td>CPCB</td>\n",
       "      <td>12.912811</td>\n",
       "      <td>77.60922</td>\n",
       "      <td>0.25</td>\n",
       "    </tr>\n",
       "    <tr>\n",
       "      <th>4</th>\n",
       "      <td>BTM Layout, Bengaluru - KSPCB</td>\n",
       "      <td>Bengaluru</td>\n",
       "      <td>IN</td>\n",
       "      <td>so2</td>\n",
       "      <td>4.49</td>\n",
       "      <td>2018-02-22 03:00:00+00:00</td>\n",
       "      <td>µg/m³</td>\n",
       "      <td>CPCB</td>\n",
       "      <td>12.912811</td>\n",
       "      <td>77.60922</td>\n",
       "      <td>0.25</td>\n",
       "    </tr>\n",
       "  </tbody>\n",
       "</table>\n",
       "</div>"
      ],
      "text/plain": [
       "                        location       city country pollutant   value  \\\n",
       "0  BTM Layout, Bengaluru - KSPCB  Bengaluru      IN        co  910.00   \n",
       "1  BTM Layout, Bengaluru - KSPCB  Bengaluru      IN       no2  131.87   \n",
       "2  BTM Layout, Bengaluru - KSPCB  Bengaluru      IN        o3   15.57   \n",
       "3  BTM Layout, Bengaluru - KSPCB  Bengaluru      IN      pm25   45.62   \n",
       "4  BTM Layout, Bengaluru - KSPCB  Bengaluru      IN       so2    4.49   \n",
       "\n",
       "                  timestamp   unit source_name   latitude  longitude  \\\n",
       "0 2018-02-22 03:00:00+00:00  µg/m³        CPCB  12.912811   77.60922   \n",
       "1 2018-02-22 03:00:00+00:00  µg/m³        CPCB  12.912811   77.60922   \n",
       "2 2018-02-22 03:00:00+00:00  µg/m³        CPCB  12.912811   77.60922   \n",
       "3 2018-02-22 03:00:00+00:00  µg/m³        CPCB  12.912811   77.60922   \n",
       "4 2018-02-22 03:00:00+00:00  µg/m³        CPCB  12.912811   77.60922   \n",
       "\n",
       "   averaged_over_in_hours  \n",
       "0                    0.25  \n",
       "1                    0.25  \n",
       "2                    0.25  \n",
       "3                    0.25  \n",
       "4                    0.25  "
      ]
     },
     "metadata": {},
     "output_type": "display_data"
    }
   ],
   "source": [
    "# dbg\n",
    "display(\n",
    "    client.list_rows(openaq_table, max_results=5).to_dataframe()\n",
    ")"
   ]
  },
  {
   "cell_type": "code",
   "execution_count": 48,
   "metadata": {},
   "outputs": [],
   "source": [
    "# Try out select query\n",
    "# note that ` in FROM part is not ' or \" character\n",
    "\n",
    "us_cities_select_query = \\\n",
    "    \"\"\"\n",
    "    SELECT city\n",
    "    FROM `bigquery-public-data.openaq.global_air_quality`\n",
    "    WHERE country='US'\n",
    "    \"\"\"\n",
    "query_job = client.query(us_cities_select_query)\n",
    "us_cities_df = query_job.to_dataframe()"
   ]
  },
  {
   "cell_type": "code",
   "execution_count": 55,
   "metadata": {},
   "outputs": [
    {
     "name": "stdout",
     "output_type": "stream",
     "text": [
      "<class 'pandas.core.frame.DataFrame'>\n",
      "RangeIndex: 3610 entries, 0 to 3609\n",
      "Data columns (total 1 columns):\n",
      "city    3610 non-null object\n",
      "dtypes: object(1)\n",
      "memory usage: 28.3+ KB\n"
     ]
    },
    {
     "data": {
      "text/plain": [
       "Phoenix-Mesa-Scottsdale             87\n",
       "Houston                             78\n",
       "Los Angeles-Long Beach-Santa Ana    60\n",
       "Name: city, dtype: int64"
      ]
     },
     "metadata": {},
     "output_type": "display_data"
    }
   ],
   "source": [
    "# dbg\n",
    "us_cities_df.info()\n",
    "\n",
    "display(\n",
    "    us_cities_df['city'].value_counts().head(3)\n",
    ")"
   ]
  },
  {
   "cell_type": "code",
   "execution_count": 56,
   "metadata": {},
   "outputs": [],
   "source": [
    "# Note: always check limits when executing queries on huge datasets!\n",
    "# Example of a big dataset: hacker_news\n",
    "\n",
    "# Workaround: QueryJobConfig with dry_run=True\n",
    "# This one will estimate size of query without running it\n",
    "\n",
    "hackernews_select_query = \\\n",
    "    \"\"\"\n",
    "    SELECT score, title\n",
    "    FROM `bigquery-public-data.hacker_news.full`\n",
    "    WHERE type = \"job\";\n",
    "    \"\"\"\n",
    "dry_run_config = bigquery.QueryJobConfig(dry_run=True)"
   ]
  },
  {
   "cell_type": "code",
   "execution_count": 57,
   "metadata": {},
   "outputs": [
    {
     "name": "stdout",
     "output_type": "stream",
     "text": [
      "Estimated 371762945 bytse when processing the query\n"
     ]
    }
   ],
   "source": [
    "# Estimate costs with dry run\n",
    "dry_run_query_job = client.query(\n",
    "    hackernews_select_query,\n",
    "    job_config=dry_run_config\n",
    ")\n",
    "\n",
    "print('Estimated {0} bytes when processing the query'.format(\n",
    "    dry_run_query_job.total_bytes_processed\n",
    "))"
   ]
  },
  {
   "cell_type": "code",
   "execution_count": 58,
   "metadata": {},
   "outputs": [],
   "source": [
    "# Limit how much data I am willing to scan:\n",
    "\n",
    "BYTES_1_MB = 1024 * 1024\n",
    "safe_config = bigquery.QueryJobConfig(\n",
    "    maximum_bytes_billed=BYTES_1_MB\n",
    ")\n",
    "\n",
    "safe_query_job = client.query(\n",
    "    hackernews_select_query,\n",
    "    job_config=safe_config\n",
    ")\n",
    "hacker_news_1_mb = safe_query_job.to_dataframe()"
   ]
  },
  {
   "cell_type": "code",
   "execution_count": 63,
   "metadata": {},
   "outputs": [],
   "source": [
    "# Cancelled query: 1 MB limit was exceeded\n",
    "\n",
    "# # Only run the query if it's less than 1 MB\n",
    "# ONE_MB = 1000*1000\n",
    "# safe_config = bigquery.QueryJobConfig(maximum_bytes_billed=ONE_MB)\n",
    "\n",
    "# # Set up the query (will only run if it's less than 1 MB)\n",
    "# safe_query_job = client.query(hackernews_select_query, job_config=safe_config)\n",
    "\n",
    "# # API request - try to run the query, and return a pandas DataFrame\n",
    "# safe_query_job.to_dataframe()"
   ]
  },
  {
   "cell_type": "code",
   "execution_count": 67,
   "metadata": {},
   "outputs": [],
   "source": [
    "ppm_countries_select_query = \\\n",
    "    \"\"\"\n",
    "    SELECT DISTINCT country\n",
    "    FROM `bigquery-public-data.openaq.global_air_quality`\n",
    "    WHERE unit = \"ppm\";\n",
    "    \"\"\"\n",
    "safe_config = bigquery.QueryJobConfig(maximum_bytes_billed=1024*1024*10)\n",
    "countries_query_job = client.query(\n",
    "    ppm_countries_select_query,\n",
    "    job_config=safe_config\n",
    ")"
   ]
  },
  {
   "cell_type": "code",
   "execution_count": 68,
   "metadata": {},
   "outputs": [
    {
     "data": {
      "text/html": [
       "<div>\n",
       "<style scoped>\n",
       "    .dataframe tbody tr th:only-of-type {\n",
       "        vertical-align: middle;\n",
       "    }\n",
       "\n",
       "    .dataframe tbody tr th {\n",
       "        vertical-align: top;\n",
       "    }\n",
       "\n",
       "    .dataframe thead th {\n",
       "        text-align: right;\n",
       "    }\n",
       "</style>\n",
       "<table border=\"1\" class=\"dataframe\">\n",
       "  <thead>\n",
       "    <tr style=\"text-align: right;\">\n",
       "      <th></th>\n",
       "      <th>country</th>\n",
       "    </tr>\n",
       "  </thead>\n",
       "  <tbody>\n",
       "    <tr>\n",
       "      <th>0</th>\n",
       "      <td>US</td>\n",
       "    </tr>\n",
       "    <tr>\n",
       "      <th>1</th>\n",
       "      <td>CL</td>\n",
       "    </tr>\n",
       "    <tr>\n",
       "      <th>2</th>\n",
       "      <td>MX</td>\n",
       "    </tr>\n",
       "    <tr>\n",
       "      <th>3</th>\n",
       "      <td>BA</td>\n",
       "    </tr>\n",
       "    <tr>\n",
       "      <th>4</th>\n",
       "      <td>CA</td>\n",
       "    </tr>\n",
       "    <tr>\n",
       "      <th>5</th>\n",
       "      <td>IL</td>\n",
       "    </tr>\n",
       "    <tr>\n",
       "      <th>6</th>\n",
       "      <td>TW</td>\n",
       "    </tr>\n",
       "    <tr>\n",
       "      <th>7</th>\n",
       "      <td>CO</td>\n",
       "    </tr>\n",
       "    <tr>\n",
       "      <th>8</th>\n",
       "      <td>TH</td>\n",
       "    </tr>\n",
       "    <tr>\n",
       "      <th>9</th>\n",
       "      <td>BR</td>\n",
       "    </tr>\n",
       "    <tr>\n",
       "      <th>10</th>\n",
       "      <td>PE</td>\n",
       "    </tr>\n",
       "    <tr>\n",
       "      <th>11</th>\n",
       "      <td>AR</td>\n",
       "    </tr>\n",
       "    <tr>\n",
       "      <th>12</th>\n",
       "      <td>ZA</td>\n",
       "    </tr>\n",
       "    <tr>\n",
       "      <th>13</th>\n",
       "      <td>AE</td>\n",
       "    </tr>\n",
       "    <tr>\n",
       "      <th>14</th>\n",
       "      <td>CW</td>\n",
       "    </tr>\n",
       "    <tr>\n",
       "      <th>15</th>\n",
       "      <td>MM</td>\n",
       "    </tr>\n",
       "    <tr>\n",
       "      <th>16</th>\n",
       "      <td>UZ</td>\n",
       "    </tr>\n",
       "    <tr>\n",
       "      <th>17</th>\n",
       "      <td>NP</td>\n",
       "    </tr>\n",
       "    <tr>\n",
       "      <th>18</th>\n",
       "      <td>AU</td>\n",
       "    </tr>\n",
       "  </tbody>\n",
       "</table>\n",
       "</div>"
      ],
      "text/plain": [
       "   country\n",
       "0       US\n",
       "1       CL\n",
       "2       MX\n",
       "3       BA\n",
       "4       CA\n",
       "5       IL\n",
       "6       TW\n",
       "7       CO\n",
       "8       TH\n",
       "9       BR\n",
       "10      PE\n",
       "11      AR\n",
       "12      ZA\n",
       "13      AE\n",
       "14      CW\n",
       "15      MM\n",
       "16      UZ\n",
       "17      NP\n",
       "18      AU"
      ]
     },
     "metadata": {},
     "output_type": "display_data"
    }
   ],
   "source": [
    "ppm_countries_results_df = countries_query_job.to_dataframe()\n",
    "display(ppm_countries_results_df)"
   ]
  },
  {
   "cell_type": "code",
   "execution_count": 71,
   "metadata": {},
   "outputs": [],
   "source": [
    "# parent -> comment that was replied to\n",
    "# id -> unique ID of each comment\n",
    "\n",
    "popular_comments_select_query = \\\n",
    "    \"\"\"\n",
    "    SELECT\n",
    "        parent AS comment_id,\n",
    "        COUNT(id) AS comment_replies_cnt\n",
    "    FROM \n",
    "        `bigquery-public-data.hacker_news.comments`\n",
    "    GROUP BY parent\n",
    "    HAVING COUNT(id) > 0;\n",
    "    \"\"\"\n",
    "safe_config = bigquery.QueryJobConfig(maximum_bytes_billed=1024*1024*10)\n",
    "query_job = client.query(popular_comments_select_query, job_config=safe_config)\n",
    "\n",
    "popular_comments_df = query_job.to_dataframe()\n",
    "display(popular_comments_df.head())"
   ]
  },
  {
   "cell_type": "code",
   "execution_count": null,
   "metadata": {},
   "outputs": [],
   "source": [
    "prolific_commenters_select_query = \\\n",
    "    \"\"\"\n",
    "    SELECT\n",
    "        author AS author_id,\n",
    "        COUNT(id) AS comments_cnt\n",
    "    FROM\n",
    "        `bigquery-public-data.hacker_news.comments`\n",
    "    GROUP BY id\n",
    "    HAVING COUNT(author) > 10000;\n",
    "    \"\"\""
   ]
  },
  {
   "cell_type": "code",
   "execution_count": null,
   "metadata": {},
   "outputs": [],
   "source": [
    "dow_fatal_accidents_cnt_select_query = \\\n",
    "    \"\"\"\n",
    "    SELECT\n",
    "        COUNT(consecutive_number) AS fatal_accidents_cnt,\n",
    "        EXTRACT(DAYOFWEEK FROM timestamp_of_crash) AS dow\n",
    "    FROM\n",
    "        `bigquery-public-data.nhtsa_traffic_fatalities.accident_2015`\n",
    "    GROUP BY dow\n",
    "    ORDER BY fatal_accidents_cnt DESC;\n",
    "    \"\"\""
   ]
  },
  {
   "cell_type": "code",
   "execution_count": 74,
   "metadata": {},
   "outputs": [],
   "source": [
    "crypto_dataset_ref = client.dataset('crypto_bitcoin', project='bigquery-public-data')\n",
    "dataset = client.get_dataset(crypto_dataset_ref)\n",
    "\n",
    "transactions_table_ref = crypto_dataset_ref.table('transactions')\n",
    "transactions_table = client.get_table(transactions_table_ref)"
   ]
  },
  {
   "cell_type": "code",
   "execution_count": 75,
   "metadata": {},
   "outputs": [
    {
     "data": {
      "text/html": [
       "<div>\n",
       "<style scoped>\n",
       "    .dataframe tbody tr th:only-of-type {\n",
       "        vertical-align: middle;\n",
       "    }\n",
       "\n",
       "    .dataframe tbody tr th {\n",
       "        vertical-align: top;\n",
       "    }\n",
       "\n",
       "    .dataframe thead th {\n",
       "        text-align: right;\n",
       "    }\n",
       "</style>\n",
       "<table border=\"1\" class=\"dataframe\">\n",
       "  <thead>\n",
       "    <tr style=\"text-align: right;\">\n",
       "      <th></th>\n",
       "      <th>hash</th>\n",
       "      <th>size</th>\n",
       "      <th>virtual_size</th>\n",
       "      <th>version</th>\n",
       "      <th>lock_time</th>\n",
       "      <th>block_hash</th>\n",
       "      <th>block_number</th>\n",
       "      <th>block_timestamp</th>\n",
       "      <th>block_timestamp_month</th>\n",
       "      <th>input_count</th>\n",
       "      <th>output_count</th>\n",
       "      <th>input_value</th>\n",
       "      <th>output_value</th>\n",
       "      <th>is_coinbase</th>\n",
       "      <th>fee</th>\n",
       "      <th>inputs</th>\n",
       "      <th>outputs</th>\n",
       "    </tr>\n",
       "  </thead>\n",
       "  <tbody>\n",
       "    <tr>\n",
       "      <th>0</th>\n",
       "      <td>aaac8b454e079237b8509c422b8a0ebd95e3eca5944b95...</td>\n",
       "      <td>137</td>\n",
       "      <td>137</td>\n",
       "      <td>1</td>\n",
       "      <td>0</td>\n",
       "      <td>000000000000000000d6cdda66edb65e8969566ca65fe3...</td>\n",
       "      <td>484015</td>\n",
       "      <td>2017-09-07 13:43:30+00:00</td>\n",
       "      <td>2017-09-01</td>\n",
       "      <td>0</td>\n",
       "      <td>1</td>\n",
       "      <td>None</td>\n",
       "      <td>1266641901</td>\n",
       "      <td>True</td>\n",
       "      <td>0</td>\n",
       "      <td>[]</td>\n",
       "      <td>[{'index': 0, 'script_asm': 'OP_DUP OP_HASH160...</td>\n",
       "    </tr>\n",
       "    <tr>\n",
       "      <th>1</th>\n",
       "      <td>8505c4277a8da0450cb6fd345b409a87218e09987c7e92...</td>\n",
       "      <td>193</td>\n",
       "      <td>166</td>\n",
       "      <td>1</td>\n",
       "      <td>0</td>\n",
       "      <td>000000000000000000427219aa8b931acb167f582e9b9c...</td>\n",
       "      <td>485083</td>\n",
       "      <td>2017-09-13 19:30:26+00:00</td>\n",
       "      <td>2017-09-01</td>\n",
       "      <td>0</td>\n",
       "      <td>2</td>\n",
       "      <td>None</td>\n",
       "      <td>1367011480</td>\n",
       "      <td>True</td>\n",
       "      <td>0</td>\n",
       "      <td>[]</td>\n",
       "      <td>[{'index': 0, 'script_asm': 'OP_HASH160 6dffc0...</td>\n",
       "    </tr>\n",
       "    <tr>\n",
       "      <th>2</th>\n",
       "      <td>d1a2060a08e8cd54480de8a0aac761b8667c175a7de08e...</td>\n",
       "      <td>213</td>\n",
       "      <td>186</td>\n",
       "      <td>1</td>\n",
       "      <td>0</td>\n",
       "      <td>000000000000000000d5ed15beb3085719e8f1b95f2924...</td>\n",
       "      <td>485005</td>\n",
       "      <td>2017-09-13 10:25:46+00:00</td>\n",
       "      <td>2017-09-01</td>\n",
       "      <td>0</td>\n",
       "      <td>2</td>\n",
       "      <td>None</td>\n",
       "      <td>1255484937</td>\n",
       "      <td>True</td>\n",
       "      <td>0</td>\n",
       "      <td>[]</td>\n",
       "      <td>[{'index': 0, 'script_asm': 'OP_DUP OP_HASH160...</td>\n",
       "    </tr>\n",
       "    <tr>\n",
       "      <th>3</th>\n",
       "      <td>2fba35aaba056d4028d512c0fb134ff41d2d5c504fc7a1...</td>\n",
       "      <td>213</td>\n",
       "      <td>186</td>\n",
       "      <td>1</td>\n",
       "      <td>0</td>\n",
       "      <td>0000000000000000009fd230518a5b3d50ebcd5120a844...</td>\n",
       "      <td>486934</td>\n",
       "      <td>2017-09-25 17:28:19+00:00</td>\n",
       "      <td>2017-09-01</td>\n",
       "      <td>0</td>\n",
       "      <td>2</td>\n",
       "      <td>None</td>\n",
       "      <td>1431309437</td>\n",
       "      <td>True</td>\n",
       "      <td>0</td>\n",
       "      <td>[]</td>\n",
       "      <td>[{'index': 0, 'script_asm': 'OP_DUP OP_HASH160...</td>\n",
       "    </tr>\n",
       "    <tr>\n",
       "      <th>4</th>\n",
       "      <td>630af30aa1ade3de86df071d35b6eb28e0590cf7e0bcaa...</td>\n",
       "      <td>217</td>\n",
       "      <td>190</td>\n",
       "      <td>1</td>\n",
       "      <td>0</td>\n",
       "      <td>000000000000000000841e1fa84e8e5abdfa000936524c...</td>\n",
       "      <td>483854</td>\n",
       "      <td>2017-09-06 16:06:09+00:00</td>\n",
       "      <td>2017-09-01</td>\n",
       "      <td>0</td>\n",
       "      <td>2</td>\n",
       "      <td>None</td>\n",
       "      <td>1530785512</td>\n",
       "      <td>True</td>\n",
       "      <td>0</td>\n",
       "      <td>[]</td>\n",
       "      <td>[{'index': 0, 'script_asm': 'OP_DUP OP_HASH160...</td>\n",
       "    </tr>\n",
       "  </tbody>\n",
       "</table>\n",
       "</div>"
      ],
      "text/plain": [
       "                                                hash  size  virtual_size  \\\n",
       "0  aaac8b454e079237b8509c422b8a0ebd95e3eca5944b95...   137           137   \n",
       "1  8505c4277a8da0450cb6fd345b409a87218e09987c7e92...   193           166   \n",
       "2  d1a2060a08e8cd54480de8a0aac761b8667c175a7de08e...   213           186   \n",
       "3  2fba35aaba056d4028d512c0fb134ff41d2d5c504fc7a1...   213           186   \n",
       "4  630af30aa1ade3de86df071d35b6eb28e0590cf7e0bcaa...   217           190   \n",
       "\n",
       "   version  lock_time                                         block_hash  \\\n",
       "0        1          0  000000000000000000d6cdda66edb65e8969566ca65fe3...   \n",
       "1        1          0  000000000000000000427219aa8b931acb167f582e9b9c...   \n",
       "2        1          0  000000000000000000d5ed15beb3085719e8f1b95f2924...   \n",
       "3        1          0  0000000000000000009fd230518a5b3d50ebcd5120a844...   \n",
       "4        1          0  000000000000000000841e1fa84e8e5abdfa000936524c...   \n",
       "\n",
       "   block_number           block_timestamp block_timestamp_month  input_count  \\\n",
       "0        484015 2017-09-07 13:43:30+00:00            2017-09-01            0   \n",
       "1        485083 2017-09-13 19:30:26+00:00            2017-09-01            0   \n",
       "2        485005 2017-09-13 10:25:46+00:00            2017-09-01            0   \n",
       "3        486934 2017-09-25 17:28:19+00:00            2017-09-01            0   \n",
       "4        483854 2017-09-06 16:06:09+00:00            2017-09-01            0   \n",
       "\n",
       "   output_count input_value output_value  is_coinbase fee inputs  \\\n",
       "0             1        None   1266641901         True   0     []   \n",
       "1             2        None   1367011480         True   0     []   \n",
       "2             2        None   1255484937         True   0     []   \n",
       "3             2        None   1431309437         True   0     []   \n",
       "4             2        None   1530785512         True   0     []   \n",
       "\n",
       "                                             outputs  \n",
       "0  [{'index': 0, 'script_asm': 'OP_DUP OP_HASH160...  \n",
       "1  [{'index': 0, 'script_asm': 'OP_HASH160 6dffc0...  \n",
       "2  [{'index': 0, 'script_asm': 'OP_DUP OP_HASH160...  \n",
       "3  [{'index': 0, 'script_asm': 'OP_DUP OP_HASH160...  \n",
       "4  [{'index': 0, 'script_asm': 'OP_DUP OP_HASH160...  "
      ]
     },
     "metadata": {},
     "output_type": "display_data"
    }
   ],
   "source": [
    "transactions_preview_df = client.list_rows(\n",
    "    transactions_table,\n",
    "    max_results=5\n",
    ").to_dataframe()\n",
    "\n",
    "display(transactions_preview_df)"
   ]
  },
  {
   "cell_type": "code",
   "execution_count": null,
   "metadata": {},
   "outputs": [],
   "source": []
  }
 ],
 "metadata": {
  "kernelspec": {
   "display_name": "Python 3",
   "language": "python",
   "name": "python3"
  },
  "language_info": {
   "codemirror_mode": {
    "name": "ipython",
    "version": 3
   },
   "file_extension": ".py",
   "mimetype": "text/x-python",
   "name": "python",
   "nbconvert_exporter": "python",
   "pygments_lexer": "ipython3",
   "version": "3.7.3"
  }
 },
 "nbformat": 4,
 "nbformat_minor": 2
}
